{
 "cells": [
  {
   "cell_type": "code",
   "execution_count": null,
   "metadata": {
    "id": "jGsUCE6OjEGX"
   },
   "outputs": [],
   "source": [
    "!pip install flair"
   ]
  },
  {
   "cell_type": "code",
   "execution_count": null,
   "metadata": {
    "id": "7n2Xatz1n9dU"
   },
   "outputs": [],
   "source": [
    "!mkdir data"
   ]
  },
  {
   "cell_type": "code",
   "execution_count": 2,
   "metadata": {
    "colab": {
     "base_uri": "https://localhost:8080/",
     "height": 34
    },
    "executionInfo": {
     "elapsed": 3563,
     "status": "ok",
     "timestamp": 1552876234429,
     "user": {
      "displayName": "Nam Phạm",
      "photoUrl": "",
      "userId": "05505217534925601011"
     },
     "user_tz": -420
    },
    "id": "_jLbbYnOosi5",
    "outputId": "9c89f1cc-77a7-4a95-a40a-fd13478c0c26"
   },
   "outputs": [
    {
     "name": "stdout",
     "output_type": "stream",
     "text": [
      "dev.txt  Flair_Training_Model.ipynb  test.txt  train.txt\r\n"
     ]
    }
   ],
   "source": [
    "!ls"
   ]
  },
  {
   "cell_type": "code",
   "execution_count": 3,
   "metadata": {
    "colab": {
     "base_uri": "https://localhost:8080/",
     "height": 85
    },
    "executionInfo": {
     "elapsed": 4555,
     "status": "ok",
     "timestamp": 1560778690608,
     "user": {
      "displayName": "Nam Phạm",
      "photoUrl": "",
      "userId": "05505217534925601011"
     },
     "user_tz": -420
    },
    "id": "2BujWuuioIvN",
    "outputId": "c4c2c3f5-407a-4378-cf06-ce33642ccf33"
   },
   "outputs": [
    {
     "name": "stdout",
     "output_type": "stream",
     "text": [
      "2021-07-10 08:45:49,618 Reading data from .\n",
      "2021-07-10 08:45:49,618 Train: train.txt\n",
      "2021-07-10 08:45:49,619 Dev: dev.txt\n",
      "2021-07-10 08:45:49,619 Test: test.txt\n"
     ]
    }
   ],
   "source": [
    "# 1. get the corpus\n",
    "from flair.data import Corpus\n",
    "from flair.datasets import ColumnCorpus\n",
    "\n",
    "# define columns\n",
    "columns = {0: 'text', 1: 'ner'}\n",
    "\n",
    "# this is the folder in which train, test and dev files reside\n",
    "data_folder = '.'\n",
    "\n",
    "# retrieve corpus using column format, data folder and the names of the train, dev and test files\n",
    "corpus: Corpus = ColumnCorpus(data_folder, columns,\n",
    "                              train_file='train.txt',\n",
    "                              test_file='test.txt',\n",
    "                              dev_file='dev.txt')"
   ]
  },
  {
   "cell_type": "code",
   "execution_count": 4,
   "metadata": {
    "colab": {
     "base_uri": "https://localhost:8080/",
     "height": 34
    },
    "executionInfo": {
     "elapsed": 643,
     "status": "ok",
     "timestamp": 1560778703053,
     "user": {
      "displayName": "Nam Phạm",
      "photoUrl": "",
      "userId": "05505217534925601011"
     },
     "user_tz": -420
    },
    "id": "H_ed0gbeph3b",
    "outputId": "b56c1d55-6162-4deb-97c6-9f29f85032d0"
   },
   "outputs": [
    {
     "name": "stdout",
     "output_type": "stream",
     "text": [
      "Corpus: 7480 train + 2825 dev + 4264 test sentences\n"
     ]
    }
   ],
   "source": [
    "print(corpus)\n"
   ]
  },
  {
   "cell_type": "code",
   "execution_count": 5,
   "metadata": {
    "colab": {
     "base_uri": "https://localhost:8080/",
     "height": 34
    },
    "executionInfo": {
     "elapsed": 1507,
     "status": "ok",
     "timestamp": 1560586605795,
     "user": {
      "displayName": "Nam Phạm",
      "photoUrl": "",
      "userId": "05505217534925601011"
     },
     "user_tz": -420
    },
    "id": "4CIXu8dtplIC",
    "outputId": "3d04fc1b-ce80-49ed-af58-fc5ef1291271"
   },
   "outputs": [
    {
     "name": "stdout",
     "output_type": "stream",
     "text": [
      "bà này khi trở về quá cảnh doha <B-LOCATION> ( qatar <B-LOCATION> ) , đáp xuống tân <B-LOCATION> sơn <I-LOCATION> nhất <I-LOCATION> sáng 2/3 cùng 75 hành khách , trong đó có 55 người nước ngoài .\n"
     ]
    }
   ],
   "source": [
    "print(corpus.train[0].to_tagged_string('ner'))"
   ]
  },
  {
   "cell_type": "code",
   "execution_count": 6,
   "metadata": {
    "id": "axhF0dFTpvSs"
   },
   "outputs": [],
   "source": [
    "from flair.embeddings import TokenEmbeddings, WordEmbeddings, BertEmbeddings, StackedEmbeddings, BytePairEmbeddings\n",
    "from typing import List"
   ]
  },
  {
   "cell_type": "code",
   "execution_count": 7,
   "metadata": {
    "colab": {
     "base_uri": "https://localhost:8080/",
     "height": 34
    },
    "executionInfo": {
     "elapsed": 884,
     "status": "ok",
     "timestamp": 1560778707962,
     "user": {
      "displayName": "Nam Phạm",
      "photoUrl": "",
      "userId": "05505217534925601011"
     },
     "user_tz": -420
    },
    "id": "T5jEP-5Lp8S9",
    "outputId": "79916c62-70cc-424d-c3c2-3b08e00bf057"
   },
   "outputs": [
    {
     "name": "stdout",
     "output_type": "stream",
     "text": [
      "[b'<unk>', b'O', b'B-LOCATION', b'I-LOCATION', b'<START>', b'<STOP>']\n"
     ]
    }
   ],
   "source": [
    "\n",
    "# 2. what tag do we want to predict?\n",
    "tag_type = 'ner'\n",
    "\n",
    "# 3. make the tag dictionary from the corpus\n",
    "tag_dictionary = corpus.make_tag_dictionary(tag_type=tag_type)\n",
    "print(tag_dictionary.idx2item)\n"
   ]
  },
  {
   "cell_type": "code",
   "execution_count": null,
   "metadata": {
    "colab": {
     "base_uri": "https://localhost:8080/",
     "height": 204
    },
    "executionInfo": {
     "elapsed": 22265,
     "status": "ok",
     "timestamp": 1552893556199,
     "user": {
      "displayName": "Nam Phạm",
      "photoUrl": "",
      "userId": "05505217534925601011"
     },
     "user_tz": -420
    },
    "id": "UtvDv3meqXxY",
    "outputId": "36adf77e-ec14-4df3-e5ee-f93269d159ad"
   },
   "outputs": [
    {
     "name": "stdout",
     "output_type": "stream",
     "text": [
      "--2019-03-18 07:18:53--  http://download2266.mediafire.com/f8bslkwu4lzg/krx1rw1sx431rqh/model.zip\n",
      "Resolving download2266.mediafire.com (download2266.mediafire.com)... 199.91.155.7\n",
      "Connecting to download2266.mediafire.com (download2266.mediafire.com)|199.91.155.7|:80... connected.\n",
      "HTTP request sent, awaiting response... 200 OK\n",
      "Length: 163819626 (156M) [application/zip]\n",
      "Saving to: ‘model.zip’\n",
      "\n",
      "model.zip           100%[===================>] 156.23M  7.81MB/s    in 20s     \n",
      "\n",
      "2019-03-18 07:19:13 (7.83 MB/s) - ‘model.zip’ saved [163819626/163819626]\n",
      "\n"
     ]
    }
   ],
   "source": [
    "!wget http://download2266.mediafire.com/f8bslkwu4lzg/krx1rw1sx431rqh/model.zip"
   ]
  },
  {
   "cell_type": "code",
   "execution_count": null,
   "metadata": {
    "colab": {
     "base_uri": "https://localhost:8080/",
     "height": 51
    },
    "executionInfo": {
     "elapsed": 23407,
     "status": "ok",
     "timestamp": 1552893562060,
     "user": {
      "displayName": "Nam Phạm",
      "photoUrl": "",
      "userId": "05505217534925601011"
     },
     "user_tz": -420
    },
    "id": "UUTbYvY6qbcL",
    "outputId": "bf3bd287-d0d1-4620-c07f-9d4685a15c7e"
   },
   "outputs": [
    {
     "name": "stdout",
     "output_type": "stream",
     "text": [
      "Archive:  model.zip\n",
      "  inflating: model.txt               \n"
     ]
    }
   ],
   "source": [
    "!unzip model.zip"
   ]
  },
  {
   "cell_type": "code",
   "execution_count": null,
   "metadata": {
    "colab": {
     "base_uri": "https://localhost:8080/",
     "height": 204
    },
    "executionInfo": {
     "elapsed": 33903,
     "status": "ok",
     "timestamp": 1552893630599,
     "user": {
      "displayName": "Nam Phạm",
      "photoUrl": "",
      "userId": "05505217534925601011"
     },
     "user_tz": -420
    },
    "id": "wqjg_qkxqdP_",
    "outputId": "093329c6-81ba-4f80-976f-58ab2e89920c"
   },
   "outputs": [
    {
     "name": "stdout",
     "output_type": "stream",
     "text": [
      "--2019-03-18 07:19:56--  https://dl.fbaipublicfiles.com/fasttext/vectors-crawl/cc.vi.300.vec.gz\n",
      "Resolving dl.fbaipublicfiles.com (dl.fbaipublicfiles.com)... 104.20.22.166, 104.20.6.166, 2606:4700:10::6814:6a6, ...\n",
      "Connecting to dl.fbaipublicfiles.com (dl.fbaipublicfiles.com)|104.20.22.166|:443... connected.\n",
      "HTTP request sent, awaiting response... 200 OK\n",
      "Length: 1235219084 (1.1G) [binary/octet-stream]\n",
      "Saving to: ‘cc.vi.300.vec.gz’\n",
      "\n",
      "cc.vi.300.vec.gz    100%[===================>]   1.15G  38.5MB/s    in 31s     \n",
      "\n",
      "2019-03-18 07:20:27 (37.9 MB/s) - ‘cc.vi.300.vec.gz’ saved [1235219084/1235219084]\n",
      "\n"
     ]
    }
   ],
   "source": [
    "!wget https://dl.fbaipublicfiles.com/fasttext/vectors-crawl/cc.vi.300.vec.gz"
   ]
  },
  {
   "cell_type": "code",
   "execution_count": null,
   "metadata": {
    "id": "PSedOnMoq_So"
   },
   "outputs": [],
   "source": [
    "!gunzip cc.vi.300.vec.gz"
   ]
  },
  {
   "cell_type": "code",
   "execution_count": null,
   "metadata": {
    "id": "E480VpubrLW9"
   },
   "outputs": [],
   "source": [
    "import gensim\n",
    "\n",
    "glove_vectors = gensim.models.KeyedVectors.load_word2vec_format('model.txt', binary=False)\n",
    "fast_text_vectors = gensim.models.KeyedVectors.load_word2vec_format('cc.vi.300.vec', binary=False)"
   ]
  },
  {
   "cell_type": "code",
   "execution_count": null,
   "metadata": {
    "id": "XGph6cOOrlYl"
   },
   "outputs": [],
   "source": [
    "glove_vectors.save(\"/content/glove_converted\")\n",
    "fast_text_vectors.save(\"/content/fast_text_converted\")"
   ]
  },
  {
   "cell_type": "code",
   "execution_count": null,
   "metadata": {
    "colab": {
     "base_uri": "https://localhost:8080/",
     "height": 88
    },
    "executionInfo": {
     "elapsed": 25356,
     "status": "ok",
     "timestamp": 1559399494154,
     "user": {
      "displayName": "Nam Phạm",
      "photoUrl": "",
      "userId": "05505217534925601011"
     },
     "user_tz": -420
    },
    "id": "XH8m91VPk36A",
    "outputId": "c86850e8-807e-41d2-a996-9ec5fecc80d3"
   },
   "outputs": [
    {
     "name": "stdout",
     "output_type": "stream",
     "text": [
      "2019-06-01 14:31:05,851 The pre-trained model you are loading is a cased model but you have not set `do_lower_case` to False. We are setting `do_lower_case=False` for you but you may want to check this behavior.\n"
     ]
    },
    {
     "name": "stderr",
     "output_type": "stream",
     "text": [
      "100%|██████████| 995526/995526 [00:00<00:00, 10805196.91B/s]\n",
      "100%|██████████| 662804195/662804195 [00:09<00:00, 68485635.93B/s]\n"
     ]
    }
   ],
   "source": [
    "bert_embedding = BertEmbeddings('bert-base-multilingual-cased')"
   ]
  },
  {
   "cell_type": "code",
   "execution_count": null,
   "metadata": {
    "colab": {
     "base_uri": "https://localhost:8080/",
     "height": 139
    },
    "executionInfo": {
     "elapsed": 9662,
     "status": "ok",
     "timestamp": 1560777863172,
     "user": {
      "displayName": "Nam Phạm",
      "photoUrl": "",
      "userId": "05505217534925601011"
     },
     "user_tz": -420
    },
    "id": "pXR1mFrQt4U4",
    "outputId": "a84eca7b-48c6-4787-ee20-18b561a54795"
   },
   "outputs": [
    {
     "name": "stdout",
     "output_type": "stream",
     "text": [
      "downloading https://nlp.h-its.org/bpemb/vi/vi.wiki.bpe.vs100000.model\n"
     ]
    },
    {
     "name": "stderr",
     "output_type": "stream",
     "text": [
      "100%|██████████| 1897265/1897265 [00:00<00:00, 2511577.16B/s]\n"
     ]
    },
    {
     "name": "stdout",
     "output_type": "stream",
     "text": [
      "downloading https://nlp.h-its.org/bpemb/vi/vi.wiki.bpe.vs100000.d50.w2v.bin.tar.gz\n"
     ]
    },
    {
     "name": "stderr",
     "output_type": "stream",
     "text": [
      "100%|██████████| 19293611/19293611 [00:01<00:00, 11153595.12B/s]\n",
      "/usr/local/lib/python3.6/dist-packages/smart_open/smart_open_lib.py:398: UserWarning: This function is deprecated, use smart_open.open instead. See the migration notes for details: https://github.com/RaRe-Technologies/smart_open/blob/master/README.rst#migrating-to-the-new-open-function\n",
      "  'See the migration notes for details: %s' % _MIGRATION_NOTES_URL\n"
     ]
    }
   ],
   "source": [
    "embedding_vi = BytePairEmbeddings('vi')"
   ]
  },
  {
   "cell_type": "code",
   "execution_count": null,
   "metadata": {
    "id": "LmXyqFjyvSOU"
   },
   "outputs": [],
   "source": [
    "embedding_gl = WordEmbeddings('glove_converted')"
   ]
  },
  {
   "cell_type": "code",
   "execution_count": null,
   "metadata": {
    "id": "yoOLAHpBwINw"
   },
   "outputs": [],
   "source": [
    "embedding_ft = WordEmbeddings('fast_text_converted')"
   ]
  },
  {
   "cell_type": "code",
   "execution_count": null,
   "metadata": {
    "colab": {
     "base_uri": "https://localhost:8080/",
     "height": 1207
    },
    "executionInfo": {
     "elapsed": 701,
     "status": "ok",
     "timestamp": 1560777867044,
     "user": {
      "displayName": "Nam Phạm",
      "photoUrl": "",
      "userId": "05505217534925601011"
     },
     "user_tz": -420
    },
    "id": "LVRqaTOmt9oV",
    "outputId": "a4528ee2-027e-4ef8-a0e2-36969fefce8d"
   },
   "outputs": [
    {
     "name": "stdout",
     "output_type": "stream",
     "text": [
      "Token: 1 can\n",
      "tensor([ 0.5459,  0.1899,  0.6332, -0.2153,  0.2570, -0.2100, -0.6654, -0.2748,\n",
      "         1.1381, -0.4627, -0.0598,  0.2289, -0.5887, -0.2988,  2.0940,  1.1097,\n",
      "        -0.4223,  0.0666, -0.1137,  0.7464, -0.4807,  0.3184, -0.5454,  0.0989,\n",
      "         0.1789, -0.5827,  0.5225,  0.4519,  0.8398,  0.6451, -0.1772, -0.0944,\n",
      "        -0.5121,  0.2777,  0.4311, -0.4081,  0.1555, -0.1418,  0.1689, -0.6162,\n",
      "        -0.2566,  1.1093,  1.0190,  0.2392, -0.4555,  0.8983,  0.0705,  0.3627,\n",
      "         0.0489, -0.3109,  0.5459,  0.1899,  0.6332, -0.2153,  0.2570, -0.2100,\n",
      "        -0.6654, -0.2748,  1.1381, -0.4627, -0.0598,  0.2289, -0.5887, -0.2988,\n",
      "         2.0940,  1.1097, -0.4223,  0.0666, -0.1137,  0.7464, -0.4807,  0.3184,\n",
      "        -0.5454,  0.0989,  0.1789, -0.5827,  0.5225,  0.4519,  0.8398,  0.6451,\n",
      "        -0.1772, -0.0944, -0.5121,  0.2777,  0.4311, -0.4081,  0.1555, -0.1418,\n",
      "         0.1689, -0.6162, -0.2566,  1.1093,  1.0190,  0.2392, -0.4555,  0.8983,\n",
      "         0.0705,  0.3627,  0.0489, -0.3109])\n",
      "Token: 2 ho\n",
      "tensor([ 0.6076, -0.0135, -0.5001,  0.3124, -0.2603,  0.0377,  0.0973,  0.1141,\n",
      "         0.9332,  0.3303, -0.4503,  0.5109,  0.4741, -0.4000,  1.2485, -0.9210,\n",
      "        -0.6112,  0.0799, -0.5488, -0.7239, -0.3522,  0.6617, -0.4610,  0.3387,\n",
      "         0.2320, -0.4028,  0.5122,  0.6172,  0.6559,  0.0636, -0.6224, -0.4773,\n",
      "        -0.0371,  0.4733, -0.6308,  0.1582, -0.0704, -0.5081, -0.1007,  0.6771,\n",
      "        -0.6220,  0.1484, -0.0802,  0.1561,  0.2986, -0.0332, -0.6700, -0.2315,\n",
      "         0.7238,  0.1225,  0.6076, -0.0135, -0.5001,  0.3124, -0.2603,  0.0377,\n",
      "         0.0973,  0.1141,  0.9332,  0.3303, -0.4503,  0.5109,  0.4741, -0.4000,\n",
      "         1.2485, -0.9210, -0.6112,  0.0799, -0.5488, -0.7239, -0.3522,  0.6617,\n",
      "        -0.4610,  0.3387,  0.2320, -0.4028,  0.5122,  0.6172,  0.6559,  0.0636,\n",
      "        -0.6224, -0.4773, -0.0371,  0.4733, -0.6308,  0.1582, -0.0704, -0.5081,\n",
      "        -0.1007,  0.6771, -0.6220,  0.1484, -0.0802,  0.1561,  0.2986, -0.0332,\n",
      "        -0.6700, -0.2315,  0.7238,  0.1225])\n",
      "Token: 3 o\n",
      "tensor([ 1.6926, -0.1229, -0.2281, -0.3296, -0.2570,  0.0137,  0.2093, -0.2926,\n",
      "         0.4332,  0.4225,  0.0404,  0.9562,  0.6836, -0.9249,  1.5871, -0.2198,\n",
      "        -0.0351,  0.2276, -0.3756, -0.9844, -0.3054,  0.2083, -0.1205, -0.2057,\n",
      "         0.1752, -0.2085, -0.0810,  1.0268,  0.0653, -0.0157,  0.0841, -0.2611,\n",
      "         0.3853,  0.9183, -0.1920,  0.5570, -0.5227, -0.5746, -1.2529, -0.3971,\n",
      "         0.1136,  0.3988, -0.4696, -0.0508,  0.0537,  0.2194, -0.1484, -0.6341,\n",
      "         0.3704, -0.1360,  1.6926, -0.1229, -0.2281, -0.3296, -0.2570,  0.0137,\n",
      "         0.2093, -0.2926,  0.4332,  0.4225,  0.0404,  0.9562,  0.6836, -0.9249,\n",
      "         1.5871, -0.2198, -0.0351,  0.2276, -0.3756, -0.9844, -0.3054,  0.2083,\n",
      "        -0.1205, -0.2057,  0.1752, -0.2085, -0.0810,  1.0268,  0.0653, -0.0157,\n",
      "         0.0841, -0.2611,  0.3853,  0.9183, -0.1920,  0.5570, -0.5227, -0.5746,\n",
      "        -1.2529, -0.3971,  0.1136,  0.3988, -0.4696, -0.0508,  0.0537,  0.2194,\n",
      "        -0.1484, -0.6341,  0.3704, -0.1360])\n",
      "Token: 4 ha\n",
      "tensor([-0.4869,  1.2435, -0.1333,  1.2137, -0.7419,  0.9818,  0.0763, -0.2117,\n",
      "         0.0886, -0.1268, -0.4564, -1.0887,  0.2263, -0.0712,  1.2179, -0.2024,\n",
      "        -0.4087, -1.1863,  0.7293, -0.3353, -0.4245,  0.3507,  0.6161,  1.6409,\n",
      "         0.6881, -0.2837,  0.9081,  1.0435,  0.7807, -0.7644, -1.3477, -0.9272,\n",
      "        -0.6815,  0.0285, -0.5104,  0.3727, -0.2890, -0.1204, -1.5517, -0.9086,\n",
      "        -0.1144,  0.6199, -0.2525,  0.1199,  0.2791, -0.9102, -0.1391,  0.0276,\n",
      "        -0.1193,  0.3003, -0.4869,  1.2435, -0.1333,  1.2137, -0.7419,  0.9818,\n",
      "         0.0763, -0.2117,  0.0886, -0.1268, -0.4564, -1.0887,  0.2263, -0.0712,\n",
      "         1.2179, -0.2024, -0.4087, -1.1863,  0.7293, -0.3353, -0.4245,  0.3507,\n",
      "         0.6161,  1.6409,  0.6881, -0.2837,  0.9081,  1.0435,  0.7807, -0.7644,\n",
      "        -1.3477, -0.9272, -0.6815,  0.0285, -0.5104,  0.3727, -0.2890, -0.1204,\n",
      "        -1.5517, -0.9086, -0.1144,  0.6199, -0.2525,  0.1199,  0.2791, -0.9102,\n",
      "        -0.1391,  0.0276, -0.1193,  0.3003])\n",
      "Token: 5 noi\n",
      "tensor([-0.9512,  0.2580,  0.0383, -0.1817,  0.5777,  0.0233, -0.1878, -0.2774,\n",
      "         0.0489,  0.1183,  0.2372, -0.6081, -0.0305,  0.4928, -0.1257, -0.5729,\n",
      "        -0.8761, -0.0722, -0.4985,  0.1246,  0.1144,  0.9621, -0.0235,  1.2750,\n",
      "        -0.1233,  0.4031, -0.1955, -1.1519,  0.2280, -0.2830, -0.1445, -0.9669,\n",
      "         0.9005,  0.3418, -0.6432,  0.6314, -0.4304,  0.0160, -0.0940, -0.8069,\n",
      "        -0.3679,  0.3909,  0.0814, -0.2678, -0.6960,  0.0859,  0.0159,  0.3063,\n",
      "        -0.1533, -0.8953, -0.9512,  0.2580,  0.0383, -0.1817,  0.5777,  0.0233,\n",
      "        -0.1878, -0.2774,  0.0489,  0.1183,  0.2372, -0.6081, -0.0305,  0.4928,\n",
      "        -0.1257, -0.5729, -0.8761, -0.0722, -0.4985,  0.1246,  0.1144,  0.9621,\n",
      "        -0.0235,  1.2750, -0.1233,  0.4031, -0.1955, -1.1519,  0.2280, -0.2830,\n",
      "        -0.1445, -0.9669,  0.9005,  0.3418, -0.6432,  0.6314, -0.4304,  0.0160,\n",
      "        -0.0940, -0.8069, -0.3679,  0.3909,  0.0814, -0.2678, -0.6960,  0.0859,\n",
      "         0.0159,  0.3063, -0.1533, -0.8953])\n"
     ]
    }
   ],
   "source": [
    "# The sentence objects holds a sentence that we may want to embed or tag\n",
    "from flair.data import Sentence\n",
    "\n",
    "# create a sentence\n",
    "sentence = Sentence('can ho o ha noi')\n",
    "\n",
    "# embed words in sentence\n",
    "embedding_vi.embed(sentence)\n",
    "\n",
    "# now check out the embedded tokens.\n",
    "for token in sentence:\n",
    "    print(token)\n",
    "    print(token.embedding)"
   ]
  },
  {
   "cell_type": "code",
   "execution_count": 9,
   "metadata": {
    "id": "7vz8u4Y6qZWn"
   },
   "outputs": [
    {
     "name": "stdout",
     "output_type": "stream",
     "text": [
      "downloading https://nlp.h-its.org/bpemb/vi/vi.wiki.bpe.vs100000.d50.w2v.bin.tar.gz\n"
     ]
    },
    {
     "name": "stderr",
     "output_type": "stream",
     "text": [
      "100%|██████████| 19293611/19293611 [00:11<00:00, 1668418.51B/s]\n"
     ]
    }
   ],
   "source": [
    "# 4. initialize embeddings\n",
    "embedding = StackedEmbeddings(\n",
    "    [\n",
    "        # Byte pair embeddings for English\n",
    "        BytePairEmbeddings('vi'),\n",
    "    ]\n",
    ")"
   ]
  },
  {
   "cell_type": "code",
   "execution_count": 11,
   "metadata": {
    "id": "8kdZzwrxqxlL"
   },
   "outputs": [],
   "source": [
    "# 5. initialize sequence tagger\n",
    "from flair.models import SequenceTagger\n",
    "\n",
    "tagger: SequenceTagger = SequenceTagger(hidden_size=256,\n",
    "                                        embeddings=embedding,\n",
    "                                        tag_dictionary=tag_dictionary,\n",
    "                                        tag_type=tag_type,\n",
    "                                        use_crf=True)"
   ]
  },
  {
   "cell_type": "code",
   "execution_count": 12,
   "metadata": {
    "id": "Cb4CtGQ2q8qK"
   },
   "outputs": [],
   "source": [
    "# 6. initialize trainer\n",
    "from flair.trainers import ModelTrainer\n",
    "from flair.training_utils import EvaluationMetric\n",
    "\n",
    "trainer: ModelTrainer = ModelTrainer(tagger, corpus)"
   ]
  },
  {
   "cell_type": "code",
   "execution_count": 14,
   "metadata": {
    "colab": {
     "base_uri": "https://localhost:8080/",
     "height": 29260
    },
    "executionInfo": {
     "elapsed": 7960356,
     "status": "ok",
     "timestamp": 1560626398243,
     "user": {
      "displayName": "Nam Phạm",
      "photoUrl": "",
      "userId": "05505217534925601011"
     },
     "user_tz": -420
    },
    "id": "7CPIcqLZRCKc",
    "outputId": "b999a501-2fed-47a0-aae7-a83ce4a06533"
   },
   "outputs": [
    {
     "name": "stdout",
     "output_type": "stream",
     "text": [
      "2021-07-10 08:50:21,355 ----------------------------------------------------------------------------------------------------\n",
      "2021-07-10 08:50:21,356 Model: \"SequenceTagger(\n",
      "  (embeddings): StackedEmbeddings(\n",
      "    (list_embedding_0): BytePairEmbeddings(model=0-bpe-vi-100000-50)\n",
      "  )\n",
      "  (word_dropout): WordDropout(p=0.05)\n",
      "  (locked_dropout): LockedDropout(p=0.5)\n",
      "  (embedding2nn): Linear(in_features=100, out_features=100, bias=True)\n",
      "  (rnn): LSTM(100, 256, batch_first=True, bidirectional=True)\n",
      "  (linear): Linear(in_features=512, out_features=6, bias=True)\n",
      "  (beta): 1.0\n",
      "  (weights): None\n",
      "  (weight_tensor) None\n",
      ")\"\n",
      "2021-07-10 08:50:21,356 ----------------------------------------------------------------------------------------------------\n",
      "2021-07-10 08:50:21,357 Corpus: \"Corpus: 7480 train + 2825 dev + 4264 test sentences\"\n",
      "2021-07-10 08:50:21,358 ----------------------------------------------------------------------------------------------------\n",
      "2021-07-10 08:50:21,358 Parameters:\n",
      "2021-07-10 08:50:21,359  - learning_rate: \"0.1\"\n",
      "2021-07-10 08:50:21,360  - mini_batch_size: \"64\"\n",
      "2021-07-10 08:50:21,360  - patience: \"3\"\n",
      "2021-07-10 08:50:21,361  - anneal_factor: \"0.5\"\n",
      "2021-07-10 08:50:21,361  - max_epochs: \"50\"\n",
      "2021-07-10 08:50:21,361  - shuffle: \"True\"\n",
      "2021-07-10 08:50:21,362  - train_with_dev: \"False\"\n",
      "2021-07-10 08:50:21,362  - batch_growth_annealing: \"False\"\n",
      "2021-07-10 08:50:21,363 ----------------------------------------------------------------------------------------------------\n",
      "2021-07-10 08:50:21,363 Model training base path: \"models\"\n",
      "2021-07-10 08:50:21,364 ----------------------------------------------------------------------------------------------------\n",
      "2021-07-10 08:50:21,364 Device: cuda:0\n",
      "2021-07-10 08:50:21,364 ----------------------------------------------------------------------------------------------------\n",
      "2021-07-10 08:50:21,365 Embeddings storage mode: cpu\n",
      "2021-07-10 08:50:21,365 ----------------------------------------------------------------------------------------------------\n",
      "2021-07-10 08:50:25,640 epoch 1 - iter 11/117 - loss 25.86162636 - samples/sec: 164.75 - lr: 0.100000\n",
      "2021-07-10 08:50:29,996 epoch 1 - iter 22/117 - loss 20.58906889 - samples/sec: 161.67 - lr: 0.100000\n",
      "2021-07-10 08:50:34,178 epoch 1 - iter 33/117 - loss 17.66225644 - samples/sec: 168.40 - lr: 0.100000\n",
      "2021-07-10 08:50:38,319 epoch 1 - iter 44/117 - loss 15.78414722 - samples/sec: 170.07 - lr: 0.100000\n",
      "2021-07-10 08:50:41,937 epoch 1 - iter 55/117 - loss 13.21580942 - samples/sec: 194.67 - lr: 0.100000\n",
      "2021-07-10 08:50:47,610 epoch 1 - iter 66/117 - loss 12.16727779 - samples/sec: 124.12 - lr: 0.100000\n",
      "2021-07-10 08:50:52,042 epoch 1 - iter 77/117 - loss 11.05321281 - samples/sec: 158.89 - lr: 0.100000\n",
      "2021-07-10 08:50:56,689 epoch 1 - iter 88/117 - loss 10.17073363 - samples/sec: 151.53 - lr: 0.100000\n",
      "2021-07-10 08:51:01,170 epoch 1 - iter 99/117 - loss 9.30577466 - samples/sec: 157.16 - lr: 0.100000\n",
      "2021-07-10 08:51:05,547 epoch 1 - iter 110/117 - loss 8.63636182 - samples/sec: 160.89 - lr: 0.100000\n",
      "2021-07-10 08:51:08,536 ----------------------------------------------------------------------------------------------------\n",
      "2021-07-10 08:51:08,536 EPOCH 1 done: loss 8.2318 - lr 0.1000000\n",
      "2021-07-10 08:51:20,405 DEV : loss 6.715024471282959 - score 0.3042\n",
      "2021-07-10 08:51:20,575 BAD EPOCHS (no improvement): 0\n",
      "saving best model\n",
      "2021-07-10 08:51:21,302 ----------------------------------------------------------------------------------------------------\n",
      "2021-07-10 08:51:24,228 epoch 2 - iter 11/117 - loss 6.34794530 - samples/sec: 240.80 - lr: 0.100000\n",
      "2021-07-10 08:51:27,376 epoch 2 - iter 22/117 - loss 5.92500971 - samples/sec: 223.74 - lr: 0.100000\n",
      "2021-07-10 08:51:30,390 epoch 2 - iter 33/117 - loss 5.71755990 - samples/sec: 233.71 - lr: 0.100000\n",
      "2021-07-10 08:51:33,634 epoch 2 - iter 44/117 - loss 5.61044654 - samples/sec: 217.14 - lr: 0.100000\n",
      "2021-07-10 08:51:36,643 epoch 2 - iter 55/117 - loss 5.38267043 - samples/sec: 234.24 - lr: 0.100000\n",
      "2021-07-10 08:51:39,951 epoch 2 - iter 66/117 - loss 5.22044801 - samples/sec: 212.98 - lr: 0.100000\n",
      "2021-07-10 08:51:42,941 epoch 2 - iter 77/117 - loss 5.11229947 - samples/sec: 235.61 - lr: 0.100000\n",
      "2021-07-10 08:51:45,957 epoch 2 - iter 88/117 - loss 5.02395570 - samples/sec: 233.61 - lr: 0.100000\n",
      "2021-07-10 08:51:49,976 epoch 2 - iter 99/117 - loss 5.04275370 - samples/sec: 175.27 - lr: 0.100000\n",
      "2021-07-10 08:51:52,720 epoch 2 - iter 110/117 - loss 4.92698964 - samples/sec: 256.80 - lr: 0.100000\n",
      "2021-07-10 08:51:54,580 ----------------------------------------------------------------------------------------------------\n",
      "2021-07-10 08:51:54,582 EPOCH 2 done: loss 4.8596 - lr 0.1000000\n",
      "2021-07-10 08:52:00,995 DEV : loss 4.166038990020752 - score 0.3635\n",
      "2021-07-10 08:52:01,166 BAD EPOCHS (no improvement): 0\n",
      "saving best model\n",
      "2021-07-10 08:52:01,887 ----------------------------------------------------------------------------------------------------\n",
      "2021-07-10 08:52:04,901 epoch 3 - iter 11/117 - loss 3.69558508 - samples/sec: 233.72 - lr: 0.100000\n",
      "2021-07-10 08:52:07,656 epoch 3 - iter 22/117 - loss 3.76323301 - samples/sec: 255.76 - lr: 0.100000\n",
      "2021-07-10 08:52:10,386 epoch 3 - iter 33/117 - loss 3.82936211 - samples/sec: 258.16 - lr: 0.100000\n",
      "2021-07-10 08:52:13,510 epoch 3 - iter 44/117 - loss 3.91209148 - samples/sec: 225.49 - lr: 0.100000\n",
      "2021-07-10 08:52:16,356 epoch 3 - iter 55/117 - loss 3.95428678 - samples/sec: 247.59 - lr: 0.100000\n",
      "2021-07-10 08:52:19,081 epoch 3 - iter 66/117 - loss 3.85797038 - samples/sec: 258.61 - lr: 0.100000\n",
      "2021-07-10 08:52:23,727 epoch 3 - iter 77/117 - loss 3.89798486 - samples/sec: 151.62 - lr: 0.100000\n",
      "2021-07-10 08:52:26,470 epoch 3 - iter 88/117 - loss 3.88643306 - samples/sec: 256.82 - lr: 0.100000\n",
      "2021-07-10 08:52:29,396 epoch 3 - iter 99/117 - loss 3.83051117 - samples/sec: 240.80 - lr: 0.100000\n",
      "2021-07-10 08:52:32,553 epoch 3 - iter 110/117 - loss 3.78947276 - samples/sec: 223.10 - lr: 0.100000\n",
      "2021-07-10 08:52:34,492 ----------------------------------------------------------------------------------------------------\n",
      "2021-07-10 08:52:34,493 EPOCH 3 done: loss 3.7508 - lr 0.1000000\n",
      "2021-07-10 08:52:39,804 DEV : loss 3.183387279510498 - score 0.6152\n",
      "2021-07-10 08:52:39,979 BAD EPOCHS (no improvement): 0\n",
      "saving best model\n",
      "2021-07-10 08:52:40,704 ----------------------------------------------------------------------------------------------------\n",
      "2021-07-10 08:52:43,349 epoch 4 - iter 11/117 - loss 3.51590235 - samples/sec: 266.35 - lr: 0.100000\n",
      "2021-07-10 08:52:46,652 epoch 4 - iter 22/117 - loss 3.43011676 - samples/sec: 213.33 - lr: 0.100000\n",
      "2021-07-10 08:52:49,783 epoch 4 - iter 33/117 - loss 3.27908616 - samples/sec: 224.99 - lr: 0.100000\n",
      "2021-07-10 08:52:52,778 epoch 4 - iter 44/117 - loss 3.31571970 - samples/sec: 235.26 - lr: 0.100000\n",
      "2021-07-10 08:52:55,676 epoch 4 - iter 55/117 - loss 3.25312934 - samples/sec: 243.16 - lr: 0.100000\n",
      "2021-07-10 08:52:58,520 epoch 4 - iter 66/117 - loss 3.19748600 - samples/sec: 247.73 - lr: 0.100000\n",
      "2021-07-10 08:53:01,371 epoch 4 - iter 77/117 - loss 3.16993732 - samples/sec: 247.06 - lr: 0.100000\n",
      "2021-07-10 08:53:04,305 epoch 4 - iter 88/117 - loss 3.13586444 - samples/sec: 240.15 - lr: 0.100000\n",
      "2021-07-10 08:53:08,623 epoch 4 - iter 99/117 - loss 3.22229274 - samples/sec: 163.13 - lr: 0.100000\n",
      "2021-07-10 08:53:11,451 epoch 4 - iter 110/117 - loss 3.19555260 - samples/sec: 249.18 - lr: 0.100000\n",
      "2021-07-10 08:53:13,177 ----------------------------------------------------------------------------------------------------\n",
      "2021-07-10 08:53:13,178 EPOCH 4 done: loss 3.1787 - lr 0.1000000\n",
      "2021-07-10 08:53:18,500 DEV : loss 2.854617118835449 - score 0.6231\n",
      "2021-07-10 08:53:18,673 BAD EPOCHS (no improvement): 0\n",
      "saving best model\n",
      "2021-07-10 08:53:19,416 ----------------------------------------------------------------------------------------------------\n",
      "2021-07-10 08:53:22,549 epoch 5 - iter 11/117 - loss 2.86751305 - samples/sec: 224.86 - lr: 0.100000\n",
      "2021-07-10 08:53:25,523 epoch 5 - iter 22/117 - loss 3.00437598 - samples/sec: 236.90 - lr: 0.100000\n",
      "2021-07-10 08:53:28,546 epoch 5 - iter 33/117 - loss 2.91381329 - samples/sec: 232.98 - lr: 0.100000\n"
     ]
    },
    {
     "name": "stdout",
     "output_type": "stream",
     "text": [
      "2021-07-10 08:53:32,904 epoch 5 - iter 44/117 - loss 3.17926017 - samples/sec: 161.66 - lr: 0.100000\n",
      "2021-07-10 08:53:36,116 epoch 5 - iter 55/117 - loss 3.18867266 - samples/sec: 219.35 - lr: 0.100000\n",
      "2021-07-10 08:53:39,003 epoch 5 - iter 66/117 - loss 3.13964719 - samples/sec: 244.06 - lr: 0.100000\n",
      "2021-07-10 08:53:41,634 epoch 5 - iter 77/117 - loss 3.06705961 - samples/sec: 267.78 - lr: 0.100000\n",
      "2021-07-10 08:53:44,943 epoch 5 - iter 88/117 - loss 3.05513040 - samples/sec: 212.83 - lr: 0.100000\n",
      "2021-07-10 08:53:48,517 epoch 5 - iter 99/117 - loss 2.99399970 - samples/sec: 197.14 - lr: 0.100000\n",
      "2021-07-10 08:53:51,211 epoch 5 - iter 110/117 - loss 2.93702219 - samples/sec: 261.48 - lr: 0.100000\n",
      "2021-07-10 08:53:52,941 ----------------------------------------------------------------------------------------------------\n",
      "2021-07-10 08:53:52,942 EPOCH 5 done: loss 2.9281 - lr 0.1000000\n",
      "2021-07-10 08:53:59,508 DEV : loss 2.179246664047241 - score 0.7083\n",
      "2021-07-10 08:53:59,681 BAD EPOCHS (no improvement): 0\n",
      "saving best model\n",
      "2021-07-10 08:54:00,428 ----------------------------------------------------------------------------------------------------\n",
      "2021-07-10 08:54:03,976 epoch 6 - iter 11/117 - loss 2.76735453 - samples/sec: 198.53 - lr: 0.100000\n",
      "2021-07-10 08:54:07,000 epoch 6 - iter 22/117 - loss 2.78113147 - samples/sec: 233.06 - lr: 0.100000\n",
      "2021-07-10 08:54:09,863 epoch 6 - iter 33/117 - loss 2.68732676 - samples/sec: 246.06 - lr: 0.100000\n",
      "2021-07-10 08:54:12,549 epoch 6 - iter 44/117 - loss 2.65568420 - samples/sec: 262.32 - lr: 0.100000\n",
      "2021-07-10 08:54:16,786 epoch 6 - iter 55/117 - loss 2.86193986 - samples/sec: 166.22 - lr: 0.100000\n",
      "2021-07-10 08:54:19,728 epoch 6 - iter 66/117 - loss 2.80722395 - samples/sec: 239.40 - lr: 0.100000\n",
      "2021-07-10 08:54:22,670 epoch 6 - iter 77/117 - loss 2.75430214 - samples/sec: 239.49 - lr: 0.100000\n",
      "2021-07-10 08:54:25,444 epoch 6 - iter 88/117 - loss 2.70775015 - samples/sec: 254.10 - lr: 0.100000\n",
      "2021-07-10 08:54:28,252 epoch 6 - iter 99/117 - loss 2.67042281 - samples/sec: 250.87 - lr: 0.100000\n",
      "2021-07-10 08:54:30,840 epoch 6 - iter 110/117 - loss 2.65161045 - samples/sec: 272.24 - lr: 0.100000\n",
      "2021-07-10 08:54:32,576 ----------------------------------------------------------------------------------------------------\n",
      "2021-07-10 08:54:32,578 EPOCH 6 done: loss 2.6176 - lr 0.1000000\n",
      "2021-07-10 08:54:38,057 DEV : loss 2.024733781814575 - score 0.7379\n",
      "2021-07-10 08:54:38,234 BAD EPOCHS (no improvement): 0\n",
      "saving best model\n",
      "2021-07-10 08:54:38,968 ----------------------------------------------------------------------------------------------------\n",
      "2021-07-10 08:54:42,203 epoch 7 - iter 11/117 - loss 2.70647550 - samples/sec: 217.74 - lr: 0.100000\n",
      "2021-07-10 08:54:46,974 epoch 7 - iter 22/117 - loss 3.00293972 - samples/sec: 147.64 - lr: 0.100000\n",
      "2021-07-10 08:54:49,788 epoch 7 - iter 33/117 - loss 2.73583284 - samples/sec: 250.37 - lr: 0.100000\n",
      "2021-07-10 08:54:52,956 epoch 7 - iter 44/117 - loss 2.65376003 - samples/sec: 222.41 - lr: 0.100000\n",
      "2021-07-10 08:54:55,958 epoch 7 - iter 55/117 - loss 2.55958616 - samples/sec: 234.73 - lr: 0.100000\n",
      "2021-07-10 08:54:58,916 epoch 7 - iter 66/117 - loss 2.50409194 - samples/sec: 238.23 - lr: 0.100000\n",
      "2021-07-10 08:55:01,941 epoch 7 - iter 77/117 - loss 2.47585696 - samples/sec: 232.90 - lr: 0.100000\n",
      "2021-07-10 08:55:05,020 epoch 7 - iter 88/117 - loss 2.44067468 - samples/sec: 228.80 - lr: 0.100000\n",
      "2021-07-10 08:55:07,832 epoch 7 - iter 99/117 - loss 2.42264685 - samples/sec: 250.62 - lr: 0.100000\n",
      "2021-07-10 08:55:10,628 epoch 7 - iter 110/117 - loss 2.38531262 - samples/sec: 251.96 - lr: 0.100000\n",
      "2021-07-10 08:55:12,362 ----------------------------------------------------------------------------------------------------\n",
      "2021-07-10 08:55:12,364 EPOCH 7 done: loss 2.3726 - lr 0.1000000\n",
      "2021-07-10 08:55:17,907 DEV : loss 1.9234167337417603 - score 0.7589\n",
      "2021-07-10 08:55:18,079 BAD EPOCHS (no improvement): 0\n",
      "saving best model\n",
      "2021-07-10 08:55:18,844 ----------------------------------------------------------------------------------------------------\n",
      "2021-07-10 08:55:21,767 epoch 8 - iter 11/117 - loss 2.40052323 - samples/sec: 241.03 - lr: 0.100000\n",
      "2021-07-10 08:55:25,853 epoch 8 - iter 22/117 - loss 2.47804807 - samples/sec: 172.39 - lr: 0.100000\n",
      "2021-07-10 08:55:29,024 epoch 8 - iter 33/117 - loss 2.42761928 - samples/sec: 222.19 - lr: 0.100000\n",
      "2021-07-10 08:55:32,139 epoch 8 - iter 44/117 - loss 2.29118354 - samples/sec: 226.14 - lr: 0.100000\n",
      "2021-07-10 08:55:35,034 epoch 8 - iter 55/117 - loss 2.26874700 - samples/sec: 243.42 - lr: 0.100000\n",
      "2021-07-10 08:55:38,139 epoch 8 - iter 66/117 - loss 2.30399645 - samples/sec: 226.91 - lr: 0.100000\n",
      "2021-07-10 08:55:41,058 epoch 8 - iter 77/117 - loss 2.27721240 - samples/sec: 241.43 - lr: 0.100000\n",
      "2021-07-10 08:55:44,576 epoch 8 - iter 88/117 - loss 2.27634033 - samples/sec: 200.27 - lr: 0.100000\n",
      "2021-07-10 08:55:47,487 epoch 8 - iter 99/117 - loss 2.25265768 - samples/sec: 241.95 - lr: 0.100000\n",
      "2021-07-10 08:55:50,448 epoch 8 - iter 110/117 - loss 2.23137336 - samples/sec: 238.00 - lr: 0.100000\n",
      "2021-07-10 08:55:52,284 ----------------------------------------------------------------------------------------------------\n",
      "2021-07-10 08:55:52,285 EPOCH 8 done: loss 2.2269 - lr 0.1000000\n",
      "2021-07-10 08:55:58,767 DEV : loss 1.7368805408477783 - score 0.7737\n",
      "2021-07-10 08:55:58,941 BAD EPOCHS (no improvement): 0\n",
      "saving best model\n",
      "2021-07-10 08:55:59,723 ----------------------------------------------------------------------------------------------------\n",
      "2021-07-10 08:56:02,652 epoch 9 - iter 11/117 - loss 2.02535872 - samples/sec: 240.53 - lr: 0.100000\n",
      "2021-07-10 08:56:05,898 epoch 9 - iter 22/117 - loss 1.96215713 - samples/sec: 217.02 - lr: 0.100000\n",
      "2021-07-10 08:56:08,889 epoch 9 - iter 33/117 - loss 2.03308744 - samples/sec: 235.58 - lr: 0.100000\n",
      "2021-07-10 08:56:13,678 epoch 9 - iter 44/117 - loss 2.23171901 - samples/sec: 147.08 - lr: 0.100000\n",
      "2021-07-10 08:56:16,543 epoch 9 - iter 55/117 - loss 2.15259694 - samples/sec: 245.96 - lr: 0.100000\n",
      "2021-07-10 08:56:19,794 epoch 9 - iter 66/117 - loss 2.15244596 - samples/sec: 216.72 - lr: 0.100000\n",
      "2021-07-10 08:56:22,952 epoch 9 - iter 77/117 - loss 2.17291211 - samples/sec: 223.12 - lr: 0.100000\n",
      "2021-07-10 08:56:25,830 epoch 9 - iter 88/117 - loss 2.13665390 - samples/sec: 244.81 - lr: 0.100000\n",
      "2021-07-10 08:56:29,097 epoch 9 - iter 99/117 - loss 2.12728863 - samples/sec: 215.59 - lr: 0.100000\n",
      "2021-07-10 08:56:31,962 epoch 9 - iter 110/117 - loss 2.09786872 - samples/sec: 245.99 - lr: 0.100000\n",
      "2021-07-10 08:56:33,723 ----------------------------------------------------------------------------------------------------\n",
      "2021-07-10 08:56:33,726 EPOCH 9 done: loss 2.0771 - lr 0.1000000\n",
      "2021-07-10 08:56:39,388 DEV : loss 2.264220714569092 - score 0.7524\n",
      "2021-07-10 08:56:39,561 BAD EPOCHS (no improvement): 1\n",
      "2021-07-10 08:56:39,942 ----------------------------------------------------------------------------------------------------\n",
      "2021-07-10 08:56:42,793 epoch 10 - iter 11/117 - loss 2.13980344 - samples/sec: 247.20 - lr: 0.100000\n",
      "2021-07-10 08:56:45,552 epoch 10 - iter 22/117 - loss 2.03321135 - samples/sec: 255.32 - lr: 0.100000\n",
      "2021-07-10 08:56:48,525 epoch 10 - iter 33/117 - loss 1.92596393 - samples/sec: 237.01 - lr: 0.100000\n",
      "2021-07-10 08:56:51,402 epoch 10 - iter 44/117 - loss 1.92260352 - samples/sec: 244.89 - lr: 0.100000\n",
      "2021-07-10 08:56:54,544 epoch 10 - iter 55/117 - loss 1.90281671 - samples/sec: 224.18 - lr: 0.100000\n",
      "2021-07-10 08:56:57,267 epoch 10 - iter 66/117 - loss 1.90280454 - samples/sec: 258.78 - lr: 0.100000\n",
      "2021-07-10 08:57:00,593 epoch 10 - iter 77/117 - loss 1.90294195 - samples/sec: 211.84 - lr: 0.100000\n",
      "2021-07-10 08:57:03,575 epoch 10 - iter 88/117 - loss 1.88896824 - samples/sec: 236.23 - lr: 0.100000\n",
      "2021-07-10 08:57:07,779 epoch 10 - iter 99/117 - loss 1.93208589 - samples/sec: 167.57 - lr: 0.100000\n",
      "2021-07-10 08:57:10,788 epoch 10 - iter 110/117 - loss 1.92586969 - samples/sec: 234.21 - lr: 0.100000\n",
      "2021-07-10 08:57:12,661 ----------------------------------------------------------------------------------------------------\n",
      "2021-07-10 08:57:12,663 EPOCH 10 done: loss 1.9303 - lr 0.1000000\n"
     ]
    },
    {
     "name": "stdout",
     "output_type": "stream",
     "text": [
      "2021-07-10 08:57:18,249 DEV : loss 1.6106880903244019 - score 0.7921\n",
      "2021-07-10 08:57:18,419 BAD EPOCHS (no improvement): 0\n",
      "saving best model\n",
      "2021-07-10 08:57:19,192 ----------------------------------------------------------------------------------------------------\n",
      "2021-07-10 08:57:22,130 epoch 11 - iter 11/117 - loss 1.69393355 - samples/sec: 239.76 - lr: 0.100000\n",
      "2021-07-10 08:57:25,287 epoch 11 - iter 22/117 - loss 1.71510774 - samples/sec: 223.21 - lr: 0.100000\n",
      "2021-07-10 08:57:28,203 epoch 11 - iter 33/117 - loss 1.86532351 - samples/sec: 241.66 - lr: 0.100000\n",
      "2021-07-10 08:57:30,904 epoch 11 - iter 44/117 - loss 1.85993766 - samples/sec: 260.74 - lr: 0.100000\n",
      "2021-07-10 08:57:33,844 epoch 11 - iter 55/117 - loss 1.86374970 - samples/sec: 239.66 - lr: 0.100000\n",
      "2021-07-10 08:57:36,866 epoch 11 - iter 66/117 - loss 1.87792767 - samples/sec: 233.14 - lr: 0.100000\n",
      "2021-07-10 08:57:39,794 epoch 11 - iter 77/117 - loss 1.86279738 - samples/sec: 240.60 - lr: 0.100000\n",
      "2021-07-10 08:57:42,701 epoch 11 - iter 88/117 - loss 1.87434835 - samples/sec: 242.33 - lr: 0.100000\n",
      "2021-07-10 08:57:47,096 epoch 11 - iter 99/117 - loss 1.93438755 - samples/sec: 160.26 - lr: 0.100000\n",
      "2021-07-10 08:57:49,888 epoch 11 - iter 110/117 - loss 1.93297815 - samples/sec: 252.43 - lr: 0.100000\n",
      "2021-07-10 08:57:51,640 ----------------------------------------------------------------------------------------------------\n",
      "2021-07-10 08:57:51,642 EPOCH 11 done: loss 1.9334 - lr 0.1000000\n",
      "2021-07-10 08:57:57,047 DEV : loss 1.4840517044067383 - score 0.8072\n",
      "2021-07-10 08:57:57,224 BAD EPOCHS (no improvement): 0\n",
      "saving best model\n",
      "2021-07-10 08:57:57,936 ----------------------------------------------------------------------------------------------------\n",
      "2021-07-10 08:58:02,120 epoch 12 - iter 11/117 - loss 2.31439563 - samples/sec: 168.31 - lr: 0.100000\n",
      "2021-07-10 08:58:05,098 epoch 12 - iter 22/117 - loss 1.96707723 - samples/sec: 236.65 - lr: 0.100000\n",
      "2021-07-10 08:58:07,913 epoch 12 - iter 33/117 - loss 1.93996153 - samples/sec: 250.34 - lr: 0.100000\n",
      "2021-07-10 08:58:10,648 epoch 12 - iter 44/117 - loss 1.91906903 - samples/sec: 257.52 - lr: 0.100000\n",
      "2021-07-10 08:58:13,581 epoch 12 - iter 55/117 - loss 1.94376475 - samples/sec: 240.25 - lr: 0.100000\n",
      "2021-07-10 08:58:16,576 epoch 12 - iter 66/117 - loss 1.90211907 - samples/sec: 235.19 - lr: 0.100000\n",
      "2021-07-10 08:58:19,646 epoch 12 - iter 77/117 - loss 1.86293124 - samples/sec: 229.49 - lr: 0.100000\n",
      "2021-07-10 08:58:22,665 epoch 12 - iter 88/117 - loss 1.88272233 - samples/sec: 233.37 - lr: 0.100000\n",
      "2021-07-10 08:58:25,662 epoch 12 - iter 99/117 - loss 1.85904898 - samples/sec: 235.11 - lr: 0.100000\n",
      "2021-07-10 08:58:28,392 epoch 12 - iter 110/117 - loss 1.84407916 - samples/sec: 258.13 - lr: 0.100000\n",
      "2021-07-10 08:58:30,149 ----------------------------------------------------------------------------------------------------\n",
      "2021-07-10 08:58:30,150 EPOCH 12 done: loss 1.8228 - lr 0.1000000\n",
      "2021-07-10 08:58:36,496 DEV : loss 1.5867100954055786 - score 0.811\n",
      "2021-07-10 08:58:36,668 BAD EPOCHS (no improvement): 0\n",
      "saving best model\n",
      "2021-07-10 08:58:37,391 ----------------------------------------------------------------------------------------------------\n",
      "2021-07-10 08:58:40,193 epoch 13 - iter 11/117 - loss 1.78175069 - samples/sec: 251.44 - lr: 0.100000\n",
      "2021-07-10 08:58:43,038 epoch 13 - iter 22/117 - loss 1.69860227 - samples/sec: 247.64 - lr: 0.100000\n",
      "2021-07-10 08:58:47,163 epoch 13 - iter 33/117 - loss 1.88817661 - samples/sec: 170.73 - lr: 0.100000\n",
      "2021-07-10 08:58:49,938 epoch 13 - iter 44/117 - loss 1.84221037 - samples/sec: 253.93 - lr: 0.100000\n",
      "2021-07-10 08:58:52,832 epoch 13 - iter 55/117 - loss 1.82233431 - samples/sec: 243.34 - lr: 0.100000\n",
      "2021-07-10 08:58:55,568 epoch 13 - iter 66/117 - loss 1.77474297 - samples/sec: 257.53 - lr: 0.100000\n",
      "2021-07-10 08:58:58,559 epoch 13 - iter 77/117 - loss 1.78120223 - samples/sec: 235.56 - lr: 0.100000\n",
      "2021-07-10 08:59:01,425 epoch 13 - iter 88/117 - loss 1.78516007 - samples/sec: 245.86 - lr: 0.100000\n",
      "2021-07-10 08:59:04,884 epoch 13 - iter 99/117 - loss 1.78034213 - samples/sec: 203.66 - lr: 0.100000\n",
      "2021-07-10 08:59:07,746 epoch 13 - iter 110/117 - loss 1.78337708 - samples/sec: 246.13 - lr: 0.100000\n",
      "2021-07-10 08:59:09,311 ----------------------------------------------------------------------------------------------------\n",
      "2021-07-10 08:59:09,312 EPOCH 13 done: loss 1.7762 - lr 0.1000000\n",
      "2021-07-10 08:59:15,122 DEV : loss 1.7713379859924316 - score 0.8054\n",
      "2021-07-10 08:59:15,299 BAD EPOCHS (no improvement): 1\n",
      "2021-07-10 08:59:15,660 ----------------------------------------------------------------------------------------------------\n",
      "2021-07-10 08:59:18,463 epoch 14 - iter 11/117 - loss 1.78627502 - samples/sec: 251.42 - lr: 0.100000\n",
      "2021-07-10 08:59:21,631 epoch 14 - iter 22/117 - loss 1.71193731 - samples/sec: 222.35 - lr: 0.100000\n",
      "2021-07-10 08:59:24,365 epoch 14 - iter 33/117 - loss 1.70373089 - samples/sec: 257.71 - lr: 0.100000\n",
      "2021-07-10 08:59:29,149 epoch 14 - iter 44/117 - loss 1.81729471 - samples/sec: 147.25 - lr: 0.100000\n",
      "2021-07-10 08:59:31,781 epoch 14 - iter 55/117 - loss 1.74386220 - samples/sec: 267.79 - lr: 0.100000\n",
      "2021-07-10 08:59:34,841 epoch 14 - iter 66/117 - loss 1.73141213 - samples/sec: 230.19 - lr: 0.100000\n",
      "2021-07-10 08:59:37,660 epoch 14 - iter 77/117 - loss 1.72175610 - samples/sec: 250.02 - lr: 0.100000\n",
      "2021-07-10 08:59:40,848 epoch 14 - iter 88/117 - loss 1.69152876 - samples/sec: 221.00 - lr: 0.100000\n",
      "2021-07-10 08:59:43,520 epoch 14 - iter 99/117 - loss 1.70067971 - samples/sec: 263.68 - lr: 0.100000\n",
      "2021-07-10 08:59:46,159 epoch 14 - iter 110/117 - loss 1.69867143 - samples/sec: 266.98 - lr: 0.100000\n",
      "2021-07-10 08:59:47,868 ----------------------------------------------------------------------------------------------------\n",
      "2021-07-10 08:59:47,870 EPOCH 14 done: loss 1.6977 - lr 0.1000000\n",
      "2021-07-10 08:59:53,155 DEV : loss 1.6135344505310059 - score 0.7966\n",
      "2021-07-10 08:59:53,331 BAD EPOCHS (no improvement): 2\n",
      "2021-07-10 08:59:53,699 ----------------------------------------------------------------------------------------------------\n",
      "2021-07-10 08:59:56,644 epoch 15 - iter 11/117 - loss 1.36006442 - samples/sec: 239.17 - lr: 0.100000\n",
      "2021-07-10 09:00:01,031 epoch 15 - iter 22/117 - loss 1.68998152 - samples/sec: 160.57 - lr: 0.100000\n",
      "2021-07-10 09:00:03,727 epoch 15 - iter 33/117 - loss 1.73618022 - samples/sec: 261.42 - lr: 0.100000\n",
      "2021-07-10 09:00:06,469 epoch 15 - iter 44/117 - loss 1.67317183 - samples/sec: 257.00 - lr: 0.100000\n",
      "2021-07-10 09:00:09,216 epoch 15 - iter 55/117 - loss 1.68779825 - samples/sec: 256.39 - lr: 0.100000\n",
      "2021-07-10 09:00:12,173 epoch 15 - iter 66/117 - loss 1.66420375 - samples/sec: 238.28 - lr: 0.100000\n",
      "2021-07-10 09:00:14,962 epoch 15 - iter 77/117 - loss 1.66005799 - samples/sec: 252.55 - lr: 0.100000\n",
      "2021-07-10 09:00:17,841 epoch 15 - iter 88/117 - loss 1.66186213 - samples/sec: 244.69 - lr: 0.100000\n",
      "2021-07-10 09:00:21,444 epoch 15 - iter 99/117 - loss 1.66100835 - samples/sec: 195.49 - lr: 0.100000\n",
      "2021-07-10 09:00:24,399 epoch 15 - iter 110/117 - loss 1.65678674 - samples/sec: 238.58 - lr: 0.100000\n",
      "2021-07-10 09:00:26,231 ----------------------------------------------------------------------------------------------------\n",
      "2021-07-10 09:00:26,232 EPOCH 15 done: loss 1.6409 - lr 0.1000000\n",
      "2021-07-10 09:00:32,858 DEV : loss 1.3455084562301636 - score 0.8278\n",
      "2021-07-10 09:00:33,029 BAD EPOCHS (no improvement): 0\n",
      "saving best model\n",
      "2021-07-10 09:00:33,760 ----------------------------------------------------------------------------------------------------\n",
      "2021-07-10 09:00:36,688 epoch 16 - iter 11/117 - loss 1.52604899 - samples/sec: 240.59 - lr: 0.100000\n",
      "2021-07-10 09:00:40,850 epoch 16 - iter 22/117 - loss 1.88133901 - samples/sec: 169.25 - lr: 0.100000\n",
      "2021-07-10 09:00:43,619 epoch 16 - iter 33/117 - loss 1.79960699 - samples/sec: 254.42 - lr: 0.100000\n",
      "2021-07-10 09:00:46,835 epoch 16 - iter 44/117 - loss 1.75541998 - samples/sec: 219.01 - lr: 0.100000\n",
      "2021-07-10 09:00:49,948 epoch 16 - iter 55/117 - loss 1.73531876 - samples/sec: 226.36 - lr: 0.100000\n",
      "2021-07-10 09:00:52,861 epoch 16 - iter 66/117 - loss 1.71148606 - samples/sec: 241.89 - lr: 0.100000\n"
     ]
    },
    {
     "name": "stdout",
     "output_type": "stream",
     "text": [
      "2021-07-10 09:00:55,726 epoch 16 - iter 77/117 - loss 1.68979705 - samples/sec: 245.86 - lr: 0.100000\n",
      "2021-07-10 09:00:58,663 epoch 16 - iter 88/117 - loss 1.67109187 - samples/sec: 239.89 - lr: 0.100000\n",
      "2021-07-10 09:01:01,607 epoch 16 - iter 99/117 - loss 1.64138184 - samples/sec: 239.37 - lr: 0.100000\n",
      "2021-07-10 09:01:04,205 epoch 16 - iter 110/117 - loss 1.61781301 - samples/sec: 271.21 - lr: 0.100000\n",
      "2021-07-10 09:01:06,011 ----------------------------------------------------------------------------------------------------\n",
      "2021-07-10 09:01:06,013 EPOCH 16 done: loss 1.6075 - lr 0.1000000\n",
      "2021-07-10 09:01:11,344 DEV : loss 1.3237756490707397 - score 0.837\n",
      "2021-07-10 09:01:11,517 BAD EPOCHS (no improvement): 0\n",
      "saving best model\n",
      "2021-07-10 09:01:12,233 ----------------------------------------------------------------------------------------------------\n",
      "2021-07-10 09:01:14,941 epoch 17 - iter 11/117 - loss 1.28397739 - samples/sec: 260.12 - lr: 0.100000\n",
      "2021-07-10 09:01:18,012 epoch 17 - iter 22/117 - loss 1.42953596 - samples/sec: 229.38 - lr: 0.100000\n",
      "2021-07-10 09:01:20,713 epoch 17 - iter 33/117 - loss 1.46800198 - samples/sec: 260.89 - lr: 0.100000\n",
      "2021-07-10 09:01:24,119 epoch 17 - iter 44/117 - loss 1.48356885 - samples/sec: 206.86 - lr: 0.100000\n",
      "2021-07-10 09:01:26,842 epoch 17 - iter 55/117 - loss 1.49429108 - samples/sec: 258.81 - lr: 0.100000\n",
      "2021-07-10 09:01:29,576 epoch 17 - iter 66/117 - loss 1.53484751 - samples/sec: 257.63 - lr: 0.100000\n",
      "2021-07-10 09:01:32,360 epoch 17 - iter 77/117 - loss 1.52928272 - samples/sec: 253.08 - lr: 0.100000\n",
      "2021-07-10 09:01:35,428 epoch 17 - iter 88/117 - loss 1.51194828 - samples/sec: 229.63 - lr: 0.100000\n",
      "2021-07-10 09:01:38,223 epoch 17 - iter 99/117 - loss 1.51545644 - samples/sec: 252.07 - lr: 0.100000\n",
      "2021-07-10 09:01:42,319 epoch 17 - iter 110/117 - loss 1.59173249 - samples/sec: 171.95 - lr: 0.100000\n",
      "2021-07-10 09:01:44,110 ----------------------------------------------------------------------------------------------------\n",
      "2021-07-10 09:01:44,112 EPOCH 17 done: loss 1.5869 - lr 0.1000000\n",
      "2021-07-10 09:01:49,480 DEV : loss 1.5323656797409058 - score 0.8229\n",
      "2021-07-10 09:01:49,674 BAD EPOCHS (no improvement): 1\n",
      "2021-07-10 09:01:50,027 ----------------------------------------------------------------------------------------------------\n",
      "2021-07-10 09:01:52,843 epoch 18 - iter 11/117 - loss 1.27160228 - samples/sec: 250.10 - lr: 0.100000\n",
      "2021-07-10 09:01:55,659 epoch 18 - iter 22/117 - loss 1.31567078 - samples/sec: 250.26 - lr: 0.100000\n",
      "2021-07-10 09:01:59,235 epoch 18 - iter 33/117 - loss 1.39743667 - samples/sec: 196.95 - lr: 0.100000\n",
      "2021-07-10 09:02:03,256 epoch 18 - iter 44/117 - loss 1.58880769 - samples/sec: 175.16 - lr: 0.100000\n",
      "2021-07-10 09:02:06,022 epoch 18 - iter 55/117 - loss 1.59150277 - samples/sec: 254.74 - lr: 0.100000\n",
      "2021-07-10 09:02:08,822 epoch 18 - iter 66/117 - loss 1.55694224 - samples/sec: 251.67 - lr: 0.100000\n",
      "2021-07-10 09:02:11,778 epoch 18 - iter 77/117 - loss 1.57580273 - samples/sec: 238.33 - lr: 0.100000\n",
      "2021-07-10 09:02:14,635 epoch 18 - iter 88/117 - loss 1.54212090 - samples/sec: 246.57 - lr: 0.100000\n",
      "2021-07-10 09:02:17,610 epoch 18 - iter 99/117 - loss 1.54172012 - samples/sec: 236.83 - lr: 0.100000\n",
      "2021-07-10 09:02:20,475 epoch 18 - iter 110/117 - loss 1.54771875 - samples/sec: 245.90 - lr: 0.100000\n",
      "2021-07-10 09:02:22,178 ----------------------------------------------------------------------------------------------------\n",
      "2021-07-10 09:02:22,179 EPOCH 18 done: loss 1.5337 - lr 0.1000000\n",
      "2021-07-10 09:02:28,867 DEV : loss 1.2294930219650269 - score 0.8473\n",
      "2021-07-10 09:02:29,040 BAD EPOCHS (no improvement): 0\n",
      "saving best model\n",
      "2021-07-10 09:02:29,768 ----------------------------------------------------------------------------------------------------\n",
      "2021-07-10 09:02:32,738 epoch 19 - iter 11/117 - loss 1.35382943 - samples/sec: 237.18 - lr: 0.100000\n",
      "2021-07-10 09:02:36,747 epoch 19 - iter 22/117 - loss 1.65264801 - samples/sec: 175.72 - lr: 0.100000\n",
      "2021-07-10 09:02:39,619 epoch 19 - iter 33/117 - loss 1.58307749 - samples/sec: 245.39 - lr: 0.100000\n",
      "2021-07-10 09:02:42,790 epoch 19 - iter 44/117 - loss 1.57780992 - samples/sec: 222.23 - lr: 0.100000\n",
      "2021-07-10 09:02:45,810 epoch 19 - iter 55/117 - loss 1.55980787 - samples/sec: 233.25 - lr: 0.100000\n",
      "2021-07-10 09:02:48,896 epoch 19 - iter 66/117 - loss 1.55712191 - samples/sec: 228.25 - lr: 0.100000\n",
      "2021-07-10 09:02:51,578 epoch 19 - iter 77/117 - loss 1.55380854 - samples/sec: 262.81 - lr: 0.100000\n",
      "2021-07-10 09:02:54,281 epoch 19 - iter 88/117 - loss 1.53456305 - samples/sec: 260.67 - lr: 0.100000\n",
      "2021-07-10 09:02:57,761 epoch 19 - iter 99/117 - loss 1.52688722 - samples/sec: 202.39 - lr: 0.100000\n",
      "2021-07-10 09:03:00,641 epoch 19 - iter 110/117 - loss 1.50335850 - samples/sec: 244.69 - lr: 0.100000\n",
      "2021-07-10 09:03:02,318 ----------------------------------------------------------------------------------------------------\n",
      "2021-07-10 09:03:02,320 EPOCH 19 done: loss 1.4937 - lr 0.1000000\n",
      "2021-07-10 09:03:07,630 DEV : loss 1.298126220703125 - score 0.8403\n",
      "2021-07-10 09:03:07,800 BAD EPOCHS (no improvement): 1\n",
      "2021-07-10 09:03:08,169 ----------------------------------------------------------------------------------------------------\n",
      "2021-07-10 09:03:11,249 epoch 20 - iter 11/117 - loss 1.59032620 - samples/sec: 228.73 - lr: 0.100000\n",
      "2021-07-10 09:03:15,983 epoch 20 - iter 22/117 - loss 1.71772616 - samples/sec: 148.77 - lr: 0.100000\n",
      "2021-07-10 09:03:18,833 epoch 20 - iter 33/117 - loss 1.58579601 - samples/sec: 247.19 - lr: 0.100000\n",
      "2021-07-10 09:03:21,543 epoch 20 - iter 44/117 - loss 1.53017963 - samples/sec: 260.06 - lr: 0.100000\n",
      "2021-07-10 09:03:24,334 epoch 20 - iter 55/117 - loss 1.50040212 - samples/sec: 252.37 - lr: 0.100000\n",
      "2021-07-10 09:03:26,954 epoch 20 - iter 66/117 - loss 1.46235737 - samples/sec: 268.89 - lr: 0.100000\n",
      "2021-07-10 09:03:29,828 epoch 20 - iter 77/117 - loss 1.44569938 - samples/sec: 245.19 - lr: 0.100000\n",
      "2021-07-10 09:03:32,874 epoch 20 - iter 88/117 - loss 1.44248188 - samples/sec: 231.26 - lr: 0.100000\n",
      "2021-07-10 09:03:35,900 epoch 20 - iter 99/117 - loss 1.45138854 - samples/sec: 232.79 - lr: 0.100000\n",
      "2021-07-10 09:03:39,007 epoch 20 - iter 110/117 - loss 1.46129693 - samples/sec: 226.78 - lr: 0.100000\n",
      "2021-07-10 09:03:40,801 ----------------------------------------------------------------------------------------------------\n",
      "2021-07-10 09:03:40,803 EPOCH 20 done: loss 1.4509 - lr 0.1000000\n",
      "2021-07-10 09:03:46,331 DEV : loss 1.704676866531372 - score 0.8136\n",
      "2021-07-10 09:03:46,507 BAD EPOCHS (no improvement): 2\n",
      "2021-07-10 09:03:46,882 ----------------------------------------------------------------------------------------------------\n",
      "2021-07-10 09:03:50,020 epoch 21 - iter 11/117 - loss 1.48463517 - samples/sec: 224.47 - lr: 0.100000\n",
      "2021-07-10 09:03:52,792 epoch 21 - iter 22/117 - loss 1.34718194 - samples/sec: 254.16 - lr: 0.100000\n",
      "2021-07-10 09:03:56,219 epoch 21 - iter 33/117 - loss 1.39353736 - samples/sec: 205.57 - lr: 0.100000\n",
      "2021-07-10 09:03:59,052 epoch 21 - iter 44/117 - loss 1.36665471 - samples/sec: 248.65 - lr: 0.100000\n",
      "2021-07-10 09:04:01,884 epoch 21 - iter 55/117 - loss 1.37142575 - samples/sec: 248.79 - lr: 0.100000\n",
      "2021-07-10 09:04:04,659 epoch 21 - iter 66/117 - loss 1.37538762 - samples/sec: 253.85 - lr: 0.100000\n",
      "2021-07-10 09:04:07,429 epoch 21 - iter 77/117 - loss 1.36475893 - samples/sec: 254.44 - lr: 0.100000\n",
      "2021-07-10 09:04:10,383 epoch 21 - iter 88/117 - loss 1.35820896 - samples/sec: 238.42 - lr: 0.100000\n",
      "2021-07-10 09:04:13,257 epoch 21 - iter 99/117 - loss 1.37007689 - samples/sec: 245.11 - lr: 0.100000\n",
      "2021-07-10 09:04:17,601 epoch 21 - iter 110/117 - loss 1.39634637 - samples/sec: 162.18 - lr: 0.100000\n",
      "2021-07-10 09:04:19,307 ----------------------------------------------------------------------------------------------------\n",
      "2021-07-10 09:04:19,308 EPOCH 21 done: loss 1.3895 - lr 0.1000000\n",
      "2021-07-10 09:04:25,846 DEV : loss 1.1720783710479736 - score 0.8539\n",
      "2021-07-10 09:04:26,023 BAD EPOCHS (no improvement): 0\n",
      "saving best model\n",
      "2021-07-10 09:04:26,756 ----------------------------------------------------------------------------------------------------\n"
     ]
    },
    {
     "name": "stdout",
     "output_type": "stream",
     "text": [
      "2021-07-10 09:04:29,541 epoch 22 - iter 11/117 - loss 1.54885005 - samples/sec: 252.97 - lr: 0.100000\n",
      "2021-07-10 09:04:33,007 epoch 22 - iter 22/117 - loss 1.55716373 - samples/sec: 203.24 - lr: 0.100000\n",
      "2021-07-10 09:04:35,691 epoch 22 - iter 33/117 - loss 1.48398282 - samples/sec: 262.46 - lr: 0.100000\n",
      "2021-07-10 09:04:39,791 epoch 22 - iter 44/117 - loss 1.57961200 - samples/sec: 171.83 - lr: 0.100000\n",
      "2021-07-10 09:04:42,541 epoch 22 - iter 55/117 - loss 1.51766784 - samples/sec: 256.24 - lr: 0.100000\n",
      "2021-07-10 09:04:45,798 epoch 22 - iter 66/117 - loss 1.48505803 - samples/sec: 216.28 - lr: 0.100000\n",
      "2021-07-10 09:04:48,861 epoch 22 - iter 77/117 - loss 1.47765586 - samples/sec: 229.97 - lr: 0.100000\n",
      "2021-07-10 09:04:51,600 epoch 22 - iter 88/117 - loss 1.43995136 - samples/sec: 257.23 - lr: 0.100000\n",
      "2021-07-10 09:04:54,561 epoch 22 - iter 99/117 - loss 1.41785565 - samples/sec: 237.97 - lr: 0.100000\n",
      "2021-07-10 09:04:57,487 epoch 22 - iter 110/117 - loss 1.41015554 - samples/sec: 240.76 - lr: 0.100000\n",
      "2021-07-10 09:04:59,258 ----------------------------------------------------------------------------------------------------\n",
      "2021-07-10 09:04:59,260 EPOCH 22 done: loss 1.3972 - lr 0.1000000\n",
      "2021-07-10 09:05:04,609 DEV : loss 1.1724778413772583 - score 0.8545\n",
      "2021-07-10 09:05:04,779 BAD EPOCHS (no improvement): 0\n",
      "saving best model\n",
      "2021-07-10 09:05:05,493 ----------------------------------------------------------------------------------------------------\n",
      "2021-07-10 09:05:08,133 epoch 23 - iter 11/117 - loss 1.23810886 - samples/sec: 266.80 - lr: 0.100000\n",
      "2021-07-10 09:05:11,027 epoch 23 - iter 22/117 - loss 1.30547635 - samples/sec: 243.48 - lr: 0.100000\n",
      "2021-07-10 09:05:13,853 epoch 23 - iter 33/117 - loss 1.28920289 - samples/sec: 249.31 - lr: 0.100000\n",
      "2021-07-10 09:05:17,011 epoch 23 - iter 44/117 - loss 1.31486714 - samples/sec: 223.11 - lr: 0.100000\n",
      "2021-07-10 09:05:21,031 epoch 23 - iter 55/117 - loss 1.38556331 - samples/sec: 175.20 - lr: 0.100000\n",
      "2021-07-10 09:05:24,091 epoch 23 - iter 66/117 - loss 1.36647957 - samples/sec: 230.30 - lr: 0.100000\n",
      "2021-07-10 09:05:26,722 epoch 23 - iter 77/117 - loss 1.37346083 - samples/sec: 267.86 - lr: 0.100000\n",
      "2021-07-10 09:05:29,681 epoch 23 - iter 88/117 - loss 1.37490890 - samples/sec: 238.08 - lr: 0.100000\n",
      "2021-07-10 09:05:32,523 epoch 23 - iter 99/117 - loss 1.35565407 - samples/sec: 247.89 - lr: 0.100000\n",
      "2021-07-10 09:05:35,523 epoch 23 - iter 110/117 - loss 1.36058763 - samples/sec: 234.87 - lr: 0.100000\n",
      "2021-07-10 09:05:37,800 ----------------------------------------------------------------------------------------------------\n",
      "2021-07-10 09:05:37,803 EPOCH 23 done: loss 1.3462 - lr 0.1000000\n",
      "2021-07-10 09:05:44,021 DEV : loss 1.1576852798461914 - score 0.8557\n",
      "2021-07-10 09:05:44,210 BAD EPOCHS (no improvement): 0\n",
      "saving best model\n",
      "2021-07-10 09:05:45,035 ----------------------------------------------------------------------------------------------------\n",
      "2021-07-10 09:05:48,295 epoch 24 - iter 11/117 - loss 1.39004941 - samples/sec: 216.07 - lr: 0.100000\n",
      "2021-07-10 09:05:50,976 epoch 24 - iter 22/117 - loss 1.30138985 - samples/sec: 262.93 - lr: 0.100000\n",
      "2021-07-10 09:05:53,667 epoch 24 - iter 33/117 - loss 1.25829405 - samples/sec: 261.82 - lr: 0.100000\n",
      "2021-07-10 09:05:56,730 epoch 24 - iter 44/117 - loss 1.21993229 - samples/sec: 230.05 - lr: 0.100000\n",
      "2021-07-10 09:05:59,972 epoch 24 - iter 55/117 - loss 1.20232750 - samples/sec: 217.28 - lr: 0.100000\n",
      "2021-07-10 09:06:02,778 epoch 24 - iter 66/117 - loss 1.21500352 - samples/sec: 251.12 - lr: 0.100000\n",
      "2021-07-10 09:06:05,743 epoch 24 - iter 77/117 - loss 1.23412801 - samples/sec: 237.66 - lr: 0.100000\n",
      "2021-07-10 09:06:10,237 epoch 24 - iter 88/117 - loss 1.32245540 - samples/sec: 156.76 - lr: 0.100000\n",
      "2021-07-10 09:06:13,524 epoch 24 - iter 99/117 - loss 1.33058436 - samples/sec: 214.32 - lr: 0.100000\n",
      "2021-07-10 09:06:16,378 epoch 24 - iter 110/117 - loss 1.31841864 - samples/sec: 246.84 - lr: 0.100000\n",
      "2021-07-10 09:06:18,208 ----------------------------------------------------------------------------------------------------\n",
      "2021-07-10 09:06:18,209 EPOCH 24 done: loss 1.3134 - lr 0.1000000\n",
      "2021-07-10 09:06:23,773 DEV : loss 1.1844350099563599 - score 0.8593\n",
      "2021-07-10 09:06:23,944 BAD EPOCHS (no improvement): 0\n",
      "saving best model\n",
      "2021-07-10 09:06:24,700 ----------------------------------------------------------------------------------------------------\n",
      "2021-07-10 09:06:27,667 epoch 25 - iter 11/117 - loss 1.30920336 - samples/sec: 237.43 - lr: 0.100000\n",
      "2021-07-10 09:06:30,530 epoch 25 - iter 22/117 - loss 1.24773128 - samples/sec: 246.06 - lr: 0.100000\n",
      "2021-07-10 09:06:33,778 epoch 25 - iter 33/117 - loss 1.30005294 - samples/sec: 216.90 - lr: 0.100000\n",
      "2021-07-10 09:06:36,763 epoch 25 - iter 44/117 - loss 1.32754438 - samples/sec: 236.09 - lr: 0.100000\n",
      "2021-07-10 09:06:39,564 epoch 25 - iter 55/117 - loss 1.31380236 - samples/sec: 251.57 - lr: 0.100000\n",
      "2021-07-10 09:06:42,740 epoch 25 - iter 66/117 - loss 1.31151138 - samples/sec: 221.83 - lr: 0.100000\n",
      "2021-07-10 09:06:45,675 epoch 25 - iter 77/117 - loss 1.30362969 - samples/sec: 240.01 - lr: 0.100000\n",
      "2021-07-10 09:06:48,432 epoch 25 - iter 88/117 - loss 1.29134130 - samples/sec: 255.59 - lr: 0.100000\n",
      "2021-07-10 09:06:51,590 epoch 25 - iter 99/117 - loss 1.30651785 - samples/sec: 223.12 - lr: 0.100000\n",
      "2021-07-10 09:06:55,574 epoch 25 - iter 110/117 - loss 1.31525238 - samples/sec: 176.81 - lr: 0.100000\n",
      "2021-07-10 09:06:57,306 ----------------------------------------------------------------------------------------------------\n",
      "2021-07-10 09:06:57,308 EPOCH 25 done: loss 1.3069 - lr 0.1000000\n",
      "2021-07-10 09:07:03,822 DEV : loss 1.1714353561401367 - score 0.8622\n",
      "2021-07-10 09:07:03,994 BAD EPOCHS (no improvement): 0\n",
      "saving best model\n",
      "2021-07-10 09:07:04,704 ----------------------------------------------------------------------------------------------------\n",
      "2021-07-10 09:07:07,549 epoch 26 - iter 11/117 - loss 1.12037593 - samples/sec: 247.62 - lr: 0.100000\n",
      "2021-07-10 09:07:10,597 epoch 26 - iter 22/117 - loss 1.16909007 - samples/sec: 231.10 - lr: 0.100000\n",
      "2021-07-10 09:07:14,747 epoch 26 - iter 33/117 - loss 1.26918893 - samples/sec: 169.75 - lr: 0.100000\n",
      "2021-07-10 09:07:17,611 epoch 26 - iter 44/117 - loss 1.27408336 - samples/sec: 245.99 - lr: 0.100000\n",
      "2021-07-10 09:07:20,502 epoch 26 - iter 55/117 - loss 1.29794785 - samples/sec: 243.74 - lr: 0.100000\n",
      "2021-07-10 09:07:23,392 epoch 26 - iter 66/117 - loss 1.27913575 - samples/sec: 243.80 - lr: 0.100000\n",
      "2021-07-10 09:07:26,855 epoch 26 - iter 77/117 - loss 1.28754373 - samples/sec: 203.42 - lr: 0.100000\n",
      "2021-07-10 09:07:29,546 epoch 26 - iter 88/117 - loss 1.28978091 - samples/sec: 262.06 - lr: 0.100000\n",
      "2021-07-10 09:07:32,332 epoch 26 - iter 99/117 - loss 1.28650428 - samples/sec: 252.96 - lr: 0.100000\n",
      "2021-07-10 09:07:35,343 epoch 26 - iter 110/117 - loss 1.27687381 - samples/sec: 233.97 - lr: 0.100000\n",
      "2021-07-10 09:07:37,335 ----------------------------------------------------------------------------------------------------\n",
      "2021-07-10 09:07:37,336 EPOCH 26 done: loss 1.2744 - lr 0.1000000\n",
      "2021-07-10 09:07:42,721 DEV : loss 1.1097458600997925 - score 0.8673\n",
      "2021-07-10 09:07:42,893 BAD EPOCHS (no improvement): 0\n",
      "saving best model\n",
      "2021-07-10 09:07:43,637 ----------------------------------------------------------------------------------------------------\n",
      "2021-07-10 09:07:46,722 epoch 27 - iter 11/117 - loss 1.37657176 - samples/sec: 228.34 - lr: 0.100000\n",
      "2021-07-10 09:07:51,020 epoch 27 - iter 22/117 - loss 1.47684634 - samples/sec: 163.91 - lr: 0.100000\n",
      "2021-07-10 09:07:54,046 epoch 27 - iter 33/117 - loss 1.37561601 - samples/sec: 232.82 - lr: 0.100000\n",
      "2021-07-10 09:07:57,122 epoch 27 - iter 44/117 - loss 1.32868305 - samples/sec: 229.04 - lr: 0.100000\n",
      "2021-07-10 09:07:59,953 epoch 27 - iter 55/117 - loss 1.32183150 - samples/sec: 248.95 - lr: 0.100000\n",
      "2021-07-10 09:08:02,878 epoch 27 - iter 66/117 - loss 1.27825204 - samples/sec: 240.83 - lr: 0.100000\n",
      "2021-07-10 09:08:05,624 epoch 27 - iter 77/117 - loss 1.24991363 - samples/sec: 256.58 - lr: 0.100000\n",
      "2021-07-10 09:08:09,193 epoch 27 - iter 88/117 - loss 1.24430964 - samples/sec: 197.36 - lr: 0.100000\n"
     ]
    },
    {
     "name": "stdout",
     "output_type": "stream",
     "text": [
      "2021-07-10 09:08:11,854 epoch 27 - iter 99/117 - loss 1.24026840 - samples/sec: 264.91 - lr: 0.100000\n",
      "2021-07-10 09:08:14,551 epoch 27 - iter 110/117 - loss 1.24300004 - samples/sec: 261.25 - lr: 0.100000\n",
      "2021-07-10 09:08:16,335 ----------------------------------------------------------------------------------------------------\n",
      "2021-07-10 09:08:16,337 EPOCH 27 done: loss 1.2452 - lr 0.1000000\n",
      "2021-07-10 09:08:21,925 DEV : loss 1.1508837938308716 - score 0.8619\n",
      "2021-07-10 09:08:22,103 BAD EPOCHS (no improvement): 1\n",
      "2021-07-10 09:08:22,462 ----------------------------------------------------------------------------------------------------\n",
      "2021-07-10 09:08:25,222 epoch 28 - iter 11/117 - loss 1.25122237 - samples/sec: 255.21 - lr: 0.100000\n",
      "2021-07-10 09:08:28,208 epoch 28 - iter 22/117 - loss 1.26933084 - samples/sec: 235.99 - lr: 0.100000\n",
      "2021-07-10 09:08:31,140 epoch 28 - iter 33/117 - loss 1.27138173 - samples/sec: 240.25 - lr: 0.100000\n",
      "2021-07-10 09:08:33,907 epoch 28 - iter 44/117 - loss 1.25969949 - samples/sec: 254.63 - lr: 0.100000\n",
      "2021-07-10 09:08:37,228 epoch 28 - iter 55/117 - loss 1.27078482 - samples/sec: 212.14 - lr: 0.100000\n",
      "2021-07-10 09:08:40,060 epoch 28 - iter 66/117 - loss 1.25302935 - samples/sec: 248.92 - lr: 0.100000\n",
      "2021-07-10 09:08:43,140 epoch 28 - iter 77/117 - loss 1.25816626 - samples/sec: 228.72 - lr: 0.100000\n",
      "2021-07-10 09:08:47,227 epoch 28 - iter 88/117 - loss 1.28257301 - samples/sec: 172.38 - lr: 0.100000\n",
      "2021-07-10 09:08:49,991 epoch 28 - iter 99/117 - loss 1.27886657 - samples/sec: 254.94 - lr: 0.100000\n",
      "2021-07-10 09:08:52,722 epoch 28 - iter 110/117 - loss 1.26472872 - samples/sec: 257.95 - lr: 0.100000\n",
      "2021-07-10 09:08:54,582 ----------------------------------------------------------------------------------------------------\n",
      "2021-07-10 09:08:54,583 EPOCH 28 done: loss 1.2554 - lr 0.1000000\n",
      "2021-07-10 09:09:00,834 DEV : loss 1.0752005577087402 - score 0.8648\n",
      "2021-07-10 09:09:01,004 BAD EPOCHS (no improvement): 2\n",
      "2021-07-10 09:09:01,372 ----------------------------------------------------------------------------------------------------\n",
      "2021-07-10 09:09:04,204 epoch 29 - iter 11/117 - loss 1.09341283 - samples/sec: 248.79 - lr: 0.100000\n",
      "2021-07-10 09:09:07,136 epoch 29 - iter 22/117 - loss 1.12023853 - samples/sec: 240.29 - lr: 0.100000\n",
      "2021-07-10 09:09:09,917 epoch 29 - iter 33/117 - loss 1.17929477 - samples/sec: 253.30 - lr: 0.100000\n",
      "2021-07-10 09:09:13,822 epoch 29 - iter 44/117 - loss 1.21371819 - samples/sec: 180.40 - lr: 0.100000\n",
      "2021-07-10 09:09:17,052 epoch 29 - iter 55/117 - loss 1.19981667 - samples/sec: 218.13 - lr: 0.100000\n",
      "2021-07-10 09:09:19,787 epoch 29 - iter 66/117 - loss 1.17258525 - samples/sec: 257.59 - lr: 0.100000\n",
      "2021-07-10 09:09:22,600 epoch 29 - iter 77/117 - loss 1.16853569 - samples/sec: 250.48 - lr: 0.100000\n",
      "2021-07-10 09:09:25,635 epoch 29 - iter 88/117 - loss 1.18673570 - samples/sec: 232.12 - lr: 0.100000\n",
      "2021-07-10 09:09:28,334 epoch 29 - iter 99/117 - loss 1.18945977 - samples/sec: 261.15 - lr: 0.100000\n",
      "2021-07-10 09:09:30,996 epoch 29 - iter 110/117 - loss 1.20170306 - samples/sec: 264.71 - lr: 0.100000\n",
      "2021-07-10 09:09:32,886 ----------------------------------------------------------------------------------------------------\n",
      "2021-07-10 09:09:32,887 EPOCH 29 done: loss 1.2101 - lr 0.1000000\n",
      "2021-07-10 09:09:38,377 DEV : loss 1.0727685689926147 - score 0.8668\n",
      "2021-07-10 09:09:38,551 BAD EPOCHS (no improvement): 3\n",
      "2021-07-10 09:09:38,925 ----------------------------------------------------------------------------------------------------\n",
      "2021-07-10 09:09:42,931 epoch 30 - iter 11/117 - loss 1.57765740 - samples/sec: 175.81 - lr: 0.100000\n",
      "2021-07-10 09:09:46,008 epoch 30 - iter 22/117 - loss 1.36648192 - samples/sec: 228.99 - lr: 0.100000\n",
      "2021-07-10 09:09:48,803 epoch 30 - iter 33/117 - loss 1.31430533 - samples/sec: 252.04 - lr: 0.100000\n",
      "2021-07-10 09:09:51,555 epoch 30 - iter 44/117 - loss 1.27217240 - samples/sec: 256.02 - lr: 0.100000\n",
      "2021-07-10 09:09:54,321 epoch 30 - iter 55/117 - loss 1.23542372 - samples/sec: 254.81 - lr: 0.100000\n",
      "2021-07-10 09:09:56,932 epoch 30 - iter 66/117 - loss 1.19115365 - samples/sec: 269.89 - lr: 0.100000\n",
      "2021-07-10 09:10:00,113 epoch 30 - iter 77/117 - loss 1.18667194 - samples/sec: 221.40 - lr: 0.100000\n",
      "2021-07-10 09:10:02,944 epoch 30 - iter 88/117 - loss 1.17953797 - samples/sec: 248.95 - lr: 0.100000\n",
      "2021-07-10 09:10:06,113 epoch 30 - iter 99/117 - loss 1.19204678 - samples/sec: 222.33 - lr: 0.100000\n",
      "2021-07-10 09:10:09,452 epoch 30 - iter 110/117 - loss 1.20114657 - samples/sec: 211.05 - lr: 0.100000\n",
      "2021-07-10 09:10:11,733 ----------------------------------------------------------------------------------------------------\n",
      "2021-07-10 09:10:11,735 EPOCH 30 done: loss 1.2005 - lr 0.1000000\n",
      "2021-07-10 09:10:17,309 DEV : loss 1.0654313564300537 - score 0.8689\n",
      "2021-07-10 09:10:17,481 BAD EPOCHS (no improvement): 0\n",
      "saving best model\n",
      "2021-07-10 09:10:18,218 ----------------------------------------------------------------------------------------------------\n",
      "2021-07-10 09:10:20,895 epoch 31 - iter 11/117 - loss 0.96902904 - samples/sec: 263.20 - lr: 0.100000\n",
      "2021-07-10 09:10:23,775 epoch 31 - iter 22/117 - loss 1.04672110 - samples/sec: 244.66 - lr: 0.100000\n",
      "2021-07-10 09:10:26,357 epoch 31 - iter 33/117 - loss 1.12529901 - samples/sec: 272.88 - lr: 0.100000\n",
      "2021-07-10 09:10:29,405 epoch 31 - iter 44/117 - loss 1.10998732 - samples/sec: 231.07 - lr: 0.100000\n",
      "2021-07-10 09:10:32,042 epoch 31 - iter 55/117 - loss 1.15226089 - samples/sec: 267.25 - lr: 0.100000\n",
      "2021-07-10 09:10:36,155 epoch 31 - iter 66/117 - loss 1.22987730 - samples/sec: 171.26 - lr: 0.100000\n",
      "2021-07-10 09:10:39,906 epoch 31 - iter 77/117 - loss 1.21319215 - samples/sec: 187.82 - lr: 0.100000\n",
      "2021-07-10 09:10:42,709 epoch 31 - iter 88/117 - loss 1.20553565 - samples/sec: 251.45 - lr: 0.100000\n",
      "2021-07-10 09:10:45,600 epoch 31 - iter 99/117 - loss 1.21134785 - samples/sec: 243.72 - lr: 0.100000\n",
      "2021-07-10 09:10:48,448 epoch 31 - iter 110/117 - loss 1.19295946 - samples/sec: 247.38 - lr: 0.100000\n",
      "2021-07-10 09:10:50,256 ----------------------------------------------------------------------------------------------------\n",
      "2021-07-10 09:10:50,257 EPOCH 31 done: loss 1.2019 - lr 0.1000000\n",
      "2021-07-10 09:10:56,681 DEV : loss 1.0432478189468384 - score 0.8727\n",
      "2021-07-10 09:10:56,856 BAD EPOCHS (no improvement): 0\n",
      "saving best model\n",
      "2021-07-10 09:10:57,602 ----------------------------------------------------------------------------------------------------\n",
      "2021-07-10 09:11:01,690 epoch 32 - iter 11/117 - loss 1.24151754 - samples/sec: 172.30 - lr: 0.100000\n",
      "2021-07-10 09:11:04,658 epoch 32 - iter 22/117 - loss 1.17900349 - samples/sec: 237.52 - lr: 0.100000\n",
      "2021-07-10 09:11:07,971 epoch 32 - iter 33/117 - loss 1.15209566 - samples/sec: 212.64 - lr: 0.100000\n",
      "2021-07-10 09:11:10,977 epoch 32 - iter 44/117 - loss 1.18359479 - samples/sec: 234.39 - lr: 0.100000\n",
      "2021-07-10 09:11:13,736 epoch 32 - iter 55/117 - loss 1.17810272 - samples/sec: 255.35 - lr: 0.100000\n",
      "2021-07-10 09:11:16,555 epoch 32 - iter 66/117 - loss 1.19047330 - samples/sec: 249.99 - lr: 0.100000\n",
      "2021-07-10 09:11:19,364 epoch 32 - iter 77/117 - loss 1.18110501 - samples/sec: 250.82 - lr: 0.100000\n",
      "2021-07-10 09:11:22,418 epoch 32 - iter 88/117 - loss 1.17488071 - samples/sec: 230.75 - lr: 0.100000\n",
      "2021-07-10 09:11:25,326 epoch 32 - iter 99/117 - loss 1.13717484 - samples/sec: 242.30 - lr: 0.100000\n",
      "2021-07-10 09:11:28,485 epoch 32 - iter 110/117 - loss 1.13686571 - samples/sec: 223.00 - lr: 0.100000\n",
      "2021-07-10 09:11:30,742 ----------------------------------------------------------------------------------------------------\n",
      "2021-07-10 09:11:30,744 EPOCH 32 done: loss 1.1395 - lr 0.1000000\n",
      "2021-07-10 09:11:36,549 DEV : loss 1.0603702068328857 - score 0.8694\n",
      "2021-07-10 09:11:36,723 BAD EPOCHS (no improvement): 1\n",
      "2021-07-10 09:11:37,075 ----------------------------------------------------------------------------------------------------\n",
      "2021-07-10 09:11:40,281 epoch 33 - iter 11/117 - loss 1.15814898 - samples/sec: 219.71 - lr: 0.100000\n",
      "2021-07-10 09:11:43,150 epoch 33 - iter 22/117 - loss 0.97026004 - samples/sec: 245.59 - lr: 0.100000\n",
      "2021-07-10 09:11:46,169 epoch 33 - iter 33/117 - loss 1.03726858 - samples/sec: 233.35 - lr: 0.100000\n"
     ]
    },
    {
     "name": "stdout",
     "output_type": "stream",
     "text": [
      "2021-07-10 09:11:49,183 epoch 33 - iter 44/117 - loss 1.09816128 - samples/sec: 233.76 - lr: 0.100000\n",
      "2021-07-10 09:11:51,898 epoch 33 - iter 55/117 - loss 1.10559108 - samples/sec: 259.56 - lr: 0.100000\n",
      "2021-07-10 09:11:54,615 epoch 33 - iter 66/117 - loss 1.10521584 - samples/sec: 259.37 - lr: 0.100000\n",
      "2021-07-10 09:11:57,579 epoch 33 - iter 77/117 - loss 1.12486590 - samples/sec: 237.71 - lr: 0.100000\n",
      "2021-07-10 09:12:01,595 epoch 33 - iter 88/117 - loss 1.15169251 - samples/sec: 175.38 - lr: 0.100000\n",
      "2021-07-10 09:12:04,501 epoch 33 - iter 99/117 - loss 1.15510513 - samples/sec: 242.47 - lr: 0.100000\n",
      "2021-07-10 09:12:07,580 epoch 33 - iter 110/117 - loss 1.15487593 - samples/sec: 228.85 - lr: 0.100000\n",
      "2021-07-10 09:12:09,458 ----------------------------------------------------------------------------------------------------\n",
      "2021-07-10 09:12:09,460 EPOCH 33 done: loss 1.1490 - lr 0.1000000\n",
      "2021-07-10 09:12:14,801 DEV : loss 1.0621129274368286 - score 0.8708\n",
      "2021-07-10 09:12:14,970 BAD EPOCHS (no improvement): 2\n",
      "2021-07-10 09:12:15,320 ----------------------------------------------------------------------------------------------------\n",
      "2021-07-10 09:12:18,142 epoch 34 - iter 11/117 - loss 1.15919861 - samples/sec: 249.59 - lr: 0.100000\n",
      "2021-07-10 09:12:21,601 epoch 34 - iter 22/117 - loss 1.12266771 - samples/sec: 203.74 - lr: 0.100000\n",
      "2021-07-10 09:12:25,998 epoch 34 - iter 33/117 - loss 1.12915400 - samples/sec: 160.21 - lr: 0.100000\n",
      "2021-07-10 09:12:29,197 epoch 34 - iter 44/117 - loss 1.10526978 - samples/sec: 220.16 - lr: 0.100000\n",
      "2021-07-10 09:12:32,380 epoch 34 - iter 55/117 - loss 1.09589027 - samples/sec: 221.38 - lr: 0.100000\n",
      "2021-07-10 09:12:35,200 epoch 34 - iter 66/117 - loss 1.09310934 - samples/sec: 249.90 - lr: 0.100000\n",
      "2021-07-10 09:12:37,967 epoch 34 - iter 77/117 - loss 1.09386684 - samples/sec: 254.63 - lr: 0.100000\n",
      "2021-07-10 09:12:40,664 epoch 34 - iter 88/117 - loss 1.09808971 - samples/sec: 261.30 - lr: 0.100000\n",
      "2021-07-10 09:12:43,655 epoch 34 - iter 99/117 - loss 1.10871991 - samples/sec: 235.56 - lr: 0.100000\n",
      "2021-07-10 09:12:46,514 epoch 34 - iter 110/117 - loss 1.12267763 - samples/sec: 246.33 - lr: 0.100000\n",
      "2021-07-10 09:12:48,233 ----------------------------------------------------------------------------------------------------\n",
      "2021-07-10 09:12:48,235 EPOCH 34 done: loss 1.1215 - lr 0.1000000\n",
      "2021-07-10 09:12:53,775 DEV : loss 1.0258944034576416 - score 0.8695\n",
      "2021-07-10 09:12:53,947 BAD EPOCHS (no improvement): 3\n",
      "2021-07-10 09:12:54,301 ----------------------------------------------------------------------------------------------------\n",
      "2021-07-10 09:12:58,150 epoch 35 - iter 11/117 - loss 1.15780309 - samples/sec: 183.00 - lr: 0.100000\n",
      "2021-07-10 09:13:00,889 epoch 35 - iter 22/117 - loss 1.13866859 - samples/sec: 257.29 - lr: 0.100000\n",
      "2021-07-10 09:13:03,546 epoch 35 - iter 33/117 - loss 1.11929808 - samples/sec: 265.04 - lr: 0.100000\n",
      "2021-07-10 09:13:08,243 epoch 35 - iter 44/117 - loss 1.13202479 - samples/sec: 149.96 - lr: 0.100000\n",
      "2021-07-10 09:13:10,936 epoch 35 - iter 55/117 - loss 1.14323747 - samples/sec: 261.83 - lr: 0.100000\n",
      "2021-07-10 09:13:13,847 epoch 35 - iter 66/117 - loss 1.14809544 - samples/sec: 241.96 - lr: 0.100000\n",
      "2021-07-10 09:13:17,158 epoch 35 - iter 77/117 - loss 1.13609647 - samples/sec: 212.83 - lr: 0.100000\n",
      "2021-07-10 09:13:20,253 epoch 35 - iter 88/117 - loss 1.13059184 - samples/sec: 227.60 - lr: 0.100000\n",
      "2021-07-10 09:13:23,280 epoch 35 - iter 99/117 - loss 1.13109393 - samples/sec: 232.81 - lr: 0.100000\n",
      "2021-07-10 09:13:26,621 epoch 35 - iter 110/117 - loss 1.11895988 - samples/sec: 210.84 - lr: 0.100000\n",
      "2021-07-10 09:13:28,850 ----------------------------------------------------------------------------------------------------\n",
      "2021-07-10 09:13:28,852 EPOCH 35 done: loss 1.1106 - lr 0.1000000\n",
      "2021-07-10 09:13:35,072 DEV : loss 1.0245574712753296 - score 0.8769\n",
      "2021-07-10 09:13:35,249 BAD EPOCHS (no improvement): 0\n",
      "saving best model\n",
      "2021-07-10 09:13:36,017 ----------------------------------------------------------------------------------------------------\n",
      "2021-07-10 09:13:39,127 epoch 36 - iter 11/117 - loss 1.12454770 - samples/sec: 226.51 - lr: 0.100000\n",
      "2021-07-10 09:13:42,488 epoch 36 - iter 22/117 - loss 1.11627781 - samples/sec: 209.65 - lr: 0.100000\n",
      "2021-07-10 09:13:46,011 epoch 36 - iter 33/117 - loss 1.12447424 - samples/sec: 200.08 - lr: 0.100000\n",
      "2021-07-10 09:13:49,277 epoch 36 - iter 44/117 - loss 1.13152556 - samples/sec: 215.87 - lr: 0.100000\n",
      "2021-07-10 09:13:52,674 epoch 36 - iter 55/117 - loss 1.11212138 - samples/sec: 207.39 - lr: 0.100000\n",
      "2021-07-10 09:13:55,931 epoch 36 - iter 66/117 - loss 1.08794507 - samples/sec: 216.30 - lr: 0.100000\n",
      "2021-07-10 09:13:59,573 epoch 36 - iter 77/117 - loss 1.07302114 - samples/sec: 193.46 - lr: 0.100000\n",
      "2021-07-10 09:14:03,006 epoch 36 - iter 88/117 - loss 1.08596709 - samples/sec: 205.22 - lr: 0.100000\n",
      "2021-07-10 09:14:07,357 epoch 36 - iter 99/117 - loss 1.10701667 - samples/sec: 161.93 - lr: 0.100000\n",
      "2021-07-10 09:14:10,281 epoch 36 - iter 110/117 - loss 1.09948841 - samples/sec: 240.88 - lr: 0.100000\n",
      "2021-07-10 09:14:12,053 ----------------------------------------------------------------------------------------------------\n",
      "2021-07-10 09:14:12,054 EPOCH 36 done: loss 1.1029 - lr 0.1000000\n",
      "2021-07-10 09:14:17,646 DEV : loss 1.0259000062942505 - score 0.8753\n",
      "2021-07-10 09:14:17,823 BAD EPOCHS (no improvement): 1\n",
      "2021-07-10 09:14:18,199 ----------------------------------------------------------------------------------------------------\n",
      "2021-07-10 09:14:21,535 epoch 37 - iter 11/117 - loss 1.11685726 - samples/sec: 211.13 - lr: 0.100000\n",
      "2021-07-10 09:14:24,595 epoch 37 - iter 22/117 - loss 1.09764826 - samples/sec: 230.29 - lr: 0.100000\n",
      "2021-07-10 09:14:27,606 epoch 37 - iter 33/117 - loss 1.08920617 - samples/sec: 233.88 - lr: 0.100000\n",
      "2021-07-10 09:14:30,389 epoch 37 - iter 44/117 - loss 1.05604169 - samples/sec: 253.20 - lr: 0.100000\n",
      "2021-07-10 09:14:33,229 epoch 37 - iter 55/117 - loss 1.05827157 - samples/sec: 248.02 - lr: 0.100000\n",
      "2021-07-10 09:14:37,478 epoch 37 - iter 66/117 - loss 1.07959320 - samples/sec: 165.77 - lr: 0.100000\n",
      "2021-07-10 09:14:40,268 epoch 37 - iter 77/117 - loss 1.07670377 - samples/sec: 252.54 - lr: 0.100000\n",
      "2021-07-10 09:14:43,152 epoch 37 - iter 88/117 - loss 1.07100021 - samples/sec: 244.27 - lr: 0.100000\n",
      "2021-07-10 09:14:45,791 epoch 37 - iter 99/117 - loss 1.05839054 - samples/sec: 267.00 - lr: 0.100000\n",
      "2021-07-10 09:14:48,381 epoch 37 - iter 110/117 - loss 1.07023782 - samples/sec: 272.11 - lr: 0.100000\n",
      "2021-07-10 09:14:50,369 ----------------------------------------------------------------------------------------------------\n",
      "2021-07-10 09:14:50,371 EPOCH 37 done: loss 1.0702 - lr 0.1000000\n",
      "2021-07-10 09:14:55,927 DEV : loss 1.053908109664917 - score 0.8725\n",
      "2021-07-10 09:14:56,100 BAD EPOCHS (no improvement): 2\n",
      "2021-07-10 09:14:56,465 ----------------------------------------------------------------------------------------------------\n",
      "2021-07-10 09:14:59,460 epoch 38 - iter 11/117 - loss 1.02863294 - samples/sec: 235.24 - lr: 0.100000\n",
      "2021-07-10 09:15:03,620 epoch 38 - iter 22/117 - loss 1.19153975 - samples/sec: 169.35 - lr: 0.100000\n",
      "2021-07-10 09:15:06,605 epoch 38 - iter 33/117 - loss 1.16303390 - samples/sec: 236.02 - lr: 0.100000\n",
      "2021-07-10 09:15:09,599 epoch 38 - iter 44/117 - loss 1.08365899 - samples/sec: 235.33 - lr: 0.100000\n",
      "2021-07-10 09:15:12,634 epoch 38 - iter 55/117 - loss 1.08868954 - samples/sec: 232.16 - lr: 0.100000\n",
      "2021-07-10 09:15:15,632 epoch 38 - iter 66/117 - loss 1.09638075 - samples/sec: 235.03 - lr: 0.100000\n",
      "2021-07-10 09:15:18,386 epoch 38 - iter 77/117 - loss 1.09593626 - samples/sec: 255.82 - lr: 0.100000\n",
      "2021-07-10 09:15:21,207 epoch 38 - iter 88/117 - loss 1.09594408 - samples/sec: 249.80 - lr: 0.100000\n",
      "2021-07-10 09:15:23,954 epoch 38 - iter 99/117 - loss 1.08538288 - samples/sec: 256.52 - lr: 0.100000\n",
      "2021-07-10 09:15:26,664 epoch 38 - iter 110/117 - loss 1.07104120 - samples/sec: 259.98 - lr: 0.100000\n",
      "2021-07-10 09:15:28,994 ----------------------------------------------------------------------------------------------------\n",
      "2021-07-10 09:15:28,995 EPOCH 38 done: loss 1.0629 - lr 0.1000000\n"
     ]
    },
    {
     "name": "stdout",
     "output_type": "stream",
     "text": [
      "2021-07-10 09:15:35,319 DEV : loss 1.0980778932571411 - score 0.8737\n",
      "2021-07-10 09:15:35,494 BAD EPOCHS (no improvement): 3\n",
      "2021-07-10 09:15:35,855 ----------------------------------------------------------------------------------------------------\n",
      "2021-07-10 09:15:39,180 epoch 39 - iter 11/117 - loss 0.82156320 - samples/sec: 211.89 - lr: 0.100000\n",
      "2021-07-10 09:15:43,228 epoch 39 - iter 22/117 - loss 0.96510713 - samples/sec: 173.99 - lr: 0.100000\n",
      "2021-07-10 09:15:45,902 epoch 39 - iter 33/117 - loss 1.01865439 - samples/sec: 263.55 - lr: 0.100000\n",
      "2021-07-10 09:15:48,478 epoch 39 - iter 44/117 - loss 1.00702580 - samples/sec: 273.60 - lr: 0.100000\n",
      "2021-07-10 09:15:51,451 epoch 39 - iter 55/117 - loss 1.02741373 - samples/sec: 236.91 - lr: 0.100000\n",
      "2021-07-10 09:15:54,228 epoch 39 - iter 66/117 - loss 1.04042400 - samples/sec: 253.76 - lr: 0.100000\n",
      "2021-07-10 09:15:56,831 epoch 39 - iter 77/117 - loss 1.03019611 - samples/sec: 270.72 - lr: 0.100000\n",
      "2021-07-10 09:15:59,525 epoch 39 - iter 88/117 - loss 1.02697619 - samples/sec: 261.56 - lr: 0.100000\n",
      "2021-07-10 09:16:02,369 epoch 39 - iter 99/117 - loss 1.03791039 - samples/sec: 247.70 - lr: 0.100000\n",
      "2021-07-10 09:16:05,400 epoch 39 - iter 110/117 - loss 1.04758890 - samples/sec: 232.35 - lr: 0.100000\n",
      "2021-07-10 09:16:07,305 ----------------------------------------------------------------------------------------------------\n",
      "2021-07-10 09:16:07,307 EPOCH 39 done: loss 1.0443 - lr 0.1000000\n",
      "2021-07-10 09:16:12,532 DEV : loss 1.0335910320281982 - score 0.8764\n",
      "Epoch    39: reducing learning rate of group 0 to 5.0000e-02.\n",
      "2021-07-10 09:16:12,701 BAD EPOCHS (no improvement): 4\n",
      "2021-07-10 09:16:13,071 ----------------------------------------------------------------------------------------------------\n",
      "2021-07-10 09:16:15,837 epoch 40 - iter 11/117 - loss 1.05874225 - samples/sec: 254.73 - lr: 0.050000\n",
      "2021-07-10 09:16:18,807 epoch 40 - iter 22/117 - loss 1.05118464 - samples/sec: 237.17 - lr: 0.050000\n",
      "2021-07-10 09:16:21,774 epoch 40 - iter 33/117 - loss 0.99707789 - samples/sec: 237.47 - lr: 0.050000\n",
      "2021-07-10 09:16:24,989 epoch 40 - iter 44/117 - loss 1.01224712 - samples/sec: 219.20 - lr: 0.050000\n",
      "2021-07-10 09:16:28,043 epoch 40 - iter 55/117 - loss 1.01816778 - samples/sec: 230.79 - lr: 0.050000\n",
      "2021-07-10 09:16:31,005 epoch 40 - iter 66/117 - loss 0.99186447 - samples/sec: 237.94 - lr: 0.050000\n",
      "2021-07-10 09:16:34,793 epoch 40 - iter 77/117 - loss 0.99954947 - samples/sec: 185.95 - lr: 0.050000\n",
      "2021-07-10 09:16:37,685 epoch 40 - iter 88/117 - loss 0.99725194 - samples/sec: 243.53 - lr: 0.050000\n",
      "2021-07-10 09:16:40,645 epoch 40 - iter 99/117 - loss 1.00803233 - samples/sec: 238.02 - lr: 0.050000\n",
      "2021-07-10 09:16:43,290 epoch 40 - iter 110/117 - loss 0.99731870 - samples/sec: 266.34 - lr: 0.050000\n",
      "2021-07-10 09:16:45,116 ----------------------------------------------------------------------------------------------------\n",
      "2021-07-10 09:16:45,117 EPOCH 40 done: loss 0.9929 - lr 0.0500000\n",
      "2021-07-10 09:16:50,436 DEV : loss 0.9487932324409485 - score 0.884\n",
      "2021-07-10 09:16:50,608 BAD EPOCHS (no improvement): 0\n",
      "saving best model\n",
      "2021-07-10 09:16:51,333 ----------------------------------------------------------------------------------------------------\n",
      "2021-07-10 09:16:54,059 epoch 41 - iter 11/117 - loss 1.01218033 - samples/sec: 258.36 - lr: 0.050000\n",
      "2021-07-10 09:16:56,953 epoch 41 - iter 22/117 - loss 0.99866535 - samples/sec: 243.46 - lr: 0.050000\n",
      "2021-07-10 09:16:59,888 epoch 41 - iter 33/117 - loss 0.97850223 - samples/sec: 240.06 - lr: 0.050000\n",
      "2021-07-10 09:17:02,690 epoch 41 - iter 44/117 - loss 0.97232127 - samples/sec: 251.51 - lr: 0.050000\n",
      "2021-07-10 09:17:05,528 epoch 41 - iter 55/117 - loss 0.97275862 - samples/sec: 248.21 - lr: 0.050000\n",
      "2021-07-10 09:17:08,340 epoch 41 - iter 66/117 - loss 0.95615883 - samples/sec: 250.61 - lr: 0.050000\n",
      "2021-07-10 09:17:12,319 epoch 41 - iter 77/117 - loss 0.94881621 - samples/sec: 177.02 - lr: 0.050000\n",
      "2021-07-10 09:17:15,039 epoch 41 - iter 88/117 - loss 0.93532470 - samples/sec: 259.27 - lr: 0.050000\n",
      "2021-07-10 09:17:18,195 epoch 41 - iter 99/117 - loss 0.94517302 - samples/sec: 223.21 - lr: 0.050000\n",
      "2021-07-10 09:17:20,770 epoch 41 - iter 110/117 - loss 0.94282612 - samples/sec: 273.54 - lr: 0.050000\n",
      "2021-07-10 09:17:22,772 ----------------------------------------------------------------------------------------------------\n",
      "2021-07-10 09:17:22,773 EPOCH 41 done: loss 0.9411 - lr 0.0500000\n",
      "2021-07-10 09:17:29,084 DEV : loss 0.932927668094635 - score 0.8814\n",
      "2021-07-10 09:17:29,258 BAD EPOCHS (no improvement): 1\n",
      "2021-07-10 09:17:29,622 ----------------------------------------------------------------------------------------------------\n",
      "2021-07-10 09:17:32,335 epoch 42 - iter 11/117 - loss 0.95200245 - samples/sec: 259.72 - lr: 0.050000\n",
      "2021-07-10 09:17:35,448 epoch 42 - iter 22/117 - loss 0.99754179 - samples/sec: 226.31 - lr: 0.050000\n",
      "2021-07-10 09:17:38,637 epoch 42 - iter 33/117 - loss 0.99206066 - samples/sec: 220.94 - lr: 0.050000\n",
      "2021-07-10 09:17:42,556 epoch 42 - iter 44/117 - loss 1.02568035 - samples/sec: 179.77 - lr: 0.050000\n",
      "2021-07-10 09:17:45,351 epoch 42 - iter 55/117 - loss 0.99191072 - samples/sec: 252.26 - lr: 0.050000\n",
      "2021-07-10 09:17:48,545 epoch 42 - iter 66/117 - loss 0.98235752 - samples/sec: 220.55 - lr: 0.050000\n",
      "2021-07-10 09:17:51,367 epoch 42 - iter 77/117 - loss 0.96735560 - samples/sec: 249.84 - lr: 0.050000\n",
      "2021-07-10 09:17:54,149 epoch 42 - iter 88/117 - loss 0.95699255 - samples/sec: 253.22 - lr: 0.050000\n",
      "2021-07-10 09:17:56,926 epoch 42 - iter 99/117 - loss 0.94395569 - samples/sec: 253.69 - lr: 0.050000\n",
      "2021-07-10 09:17:59,685 epoch 42 - iter 110/117 - loss 0.94743293 - samples/sec: 255.40 - lr: 0.050000\n",
      "2021-07-10 09:18:01,459 ----------------------------------------------------------------------------------------------------\n",
      "2021-07-10 09:18:01,462 EPOCH 42 done: loss 0.9450 - lr 0.0500000\n",
      "2021-07-10 09:18:06,777 DEV : loss 0.9474595785140991 - score 0.8832\n",
      "2021-07-10 09:18:06,952 BAD EPOCHS (no improvement): 2\n",
      "2021-07-10 09:18:07,323 ----------------------------------------------------------------------------------------------------\n",
      "2021-07-10 09:18:10,395 epoch 43 - iter 11/117 - loss 0.97036003 - samples/sec: 229.39 - lr: 0.050000\n",
      "2021-07-10 09:18:13,279 epoch 43 - iter 22/117 - loss 0.97904095 - samples/sec: 244.36 - lr: 0.050000\n",
      "2021-07-10 09:18:16,162 epoch 43 - iter 33/117 - loss 0.95204201 - samples/sec: 244.36 - lr: 0.050000\n",
      "2021-07-10 09:18:20,347 epoch 43 - iter 44/117 - loss 0.96357508 - samples/sec: 168.29 - lr: 0.050000\n",
      "2021-07-10 09:18:23,338 epoch 43 - iter 55/117 - loss 0.92721623 - samples/sec: 235.68 - lr: 0.050000\n",
      "2021-07-10 09:18:26,337 epoch 43 - iter 66/117 - loss 0.92121524 - samples/sec: 234.93 - lr: 0.050000\n",
      "2021-07-10 09:18:29,299 epoch 43 - iter 77/117 - loss 0.89471564 - samples/sec: 237.87 - lr: 0.050000\n",
      "2021-07-10 09:18:32,125 epoch 43 - iter 88/117 - loss 0.90185068 - samples/sec: 249.30 - lr: 0.050000\n",
      "2021-07-10 09:18:34,913 epoch 43 - iter 99/117 - loss 0.90090873 - samples/sec: 252.80 - lr: 0.050000\n",
      "2021-07-10 09:18:38,118 epoch 43 - iter 110/117 - loss 0.91252382 - samples/sec: 219.82 - lr: 0.050000\n",
      "2021-07-10 09:18:40,008 ----------------------------------------------------------------------------------------------------\n",
      "2021-07-10 09:18:40,010 EPOCH 43 done: loss 0.8981 - lr 0.0500000\n",
      "2021-07-10 09:18:45,476 DEV : loss 0.9479946494102478 - score 0.8809\n",
      "2021-07-10 09:18:45,647 BAD EPOCHS (no improvement): 3\n",
      "2021-07-10 09:18:46,040 ----------------------------------------------------------------------------------------------------\n",
      "2021-07-10 09:18:48,989 epoch 44 - iter 11/117 - loss 0.93316806 - samples/sec: 238.91 - lr: 0.050000\n",
      "2021-07-10 09:18:53,280 epoch 44 - iter 22/117 - loss 0.93871567 - samples/sec: 164.14 - lr: 0.050000\n",
      "2021-07-10 09:18:56,134 epoch 44 - iter 33/117 - loss 0.92976727 - samples/sec: 247.00 - lr: 0.050000\n",
      "2021-07-10 09:18:59,197 epoch 44 - iter 44/117 - loss 0.88980651 - samples/sec: 229.95 - lr: 0.050000\n",
      "2021-07-10 09:19:02,500 epoch 44 - iter 55/117 - loss 0.87993445 - samples/sec: 213.34 - lr: 0.050000\n",
      "2021-07-10 09:19:05,429 epoch 44 - iter 66/117 - loss 0.87511714 - samples/sec: 240.57 - lr: 0.050000\n"
     ]
    },
    {
     "name": "stdout",
     "output_type": "stream",
     "text": [
      "2021-07-10 09:19:08,245 epoch 44 - iter 77/117 - loss 0.88422313 - samples/sec: 250.24 - lr: 0.050000\n",
      "2021-07-10 09:19:10,911 epoch 44 - iter 88/117 - loss 0.87628875 - samples/sec: 264.30 - lr: 0.050000\n",
      "2021-07-10 09:19:13,811 epoch 44 - iter 99/117 - loss 0.88222864 - samples/sec: 242.93 - lr: 0.050000\n",
      "2021-07-10 09:19:16,555 epoch 44 - iter 110/117 - loss 0.89558820 - samples/sec: 256.77 - lr: 0.050000\n",
      "2021-07-10 09:19:18,139 ----------------------------------------------------------------------------------------------------\n",
      "2021-07-10 09:19:18,140 EPOCH 44 done: loss 0.8895 - lr 0.0500000\n",
      "2021-07-10 09:19:24,489 DEV : loss 0.9321224093437195 - score 0.883\n",
      "Epoch    44: reducing learning rate of group 0 to 2.5000e-02.\n",
      "2021-07-10 09:19:24,661 BAD EPOCHS (no improvement): 4\n",
      "2021-07-10 09:19:25,033 ----------------------------------------------------------------------------------------------------\n",
      "2021-07-10 09:19:28,205 epoch 45 - iter 11/117 - loss 0.76399803 - samples/sec: 222.10 - lr: 0.025000\n",
      "2021-07-10 09:19:31,110 epoch 45 - iter 22/117 - loss 0.82001782 - samples/sec: 242.51 - lr: 0.025000\n",
      "2021-07-10 09:19:34,086 epoch 45 - iter 33/117 - loss 0.79199333 - samples/sec: 236.72 - lr: 0.025000\n",
      "2021-07-10 09:19:37,998 epoch 45 - iter 44/117 - loss 0.81428601 - samples/sec: 180.07 - lr: 0.025000\n",
      "2021-07-10 09:19:40,932 epoch 45 - iter 55/117 - loss 0.81365333 - samples/sec: 240.25 - lr: 0.025000\n",
      "2021-07-10 09:19:44,225 epoch 45 - iter 66/117 - loss 0.81581794 - samples/sec: 213.94 - lr: 0.025000\n",
      "2021-07-10 09:19:47,200 epoch 45 - iter 77/117 - loss 0.84010253 - samples/sec: 236.87 - lr: 0.025000\n",
      "2021-07-10 09:19:50,243 epoch 45 - iter 88/117 - loss 0.84960023 - samples/sec: 231.55 - lr: 0.025000\n",
      "2021-07-10 09:19:52,811 epoch 45 - iter 99/117 - loss 0.87425920 - samples/sec: 274.38 - lr: 0.025000\n",
      "2021-07-10 09:19:55,541 epoch 45 - iter 110/117 - loss 0.86750356 - samples/sec: 258.04 - lr: 0.025000\n",
      "2021-07-10 09:19:57,521 ----------------------------------------------------------------------------------------------------\n",
      "2021-07-10 09:19:57,523 EPOCH 45 done: loss 0.8683 - lr 0.0250000\n",
      "2021-07-10 09:20:02,917 DEV : loss 0.9018500447273254 - score 0.8857\n",
      "2021-07-10 09:20:03,090 BAD EPOCHS (no improvement): 0\n",
      "saving best model\n",
      "2021-07-10 09:20:03,847 ----------------------------------------------------------------------------------------------------\n",
      "2021-07-10 09:20:06,512 epoch 46 - iter 11/117 - loss 0.72877590 - samples/sec: 264.44 - lr: 0.025000\n",
      "2021-07-10 09:20:09,603 epoch 46 - iter 22/117 - loss 0.76783460 - samples/sec: 227.84 - lr: 0.025000\n",
      "2021-07-10 09:20:12,518 epoch 46 - iter 33/117 - loss 0.82319228 - samples/sec: 241.71 - lr: 0.025000\n",
      "2021-07-10 09:20:15,218 epoch 46 - iter 44/117 - loss 0.85821544 - samples/sec: 260.93 - lr: 0.025000\n",
      "2021-07-10 09:20:18,035 epoch 46 - iter 55/117 - loss 0.85180990 - samples/sec: 250.15 - lr: 0.025000\n",
      "2021-07-10 09:20:20,917 epoch 46 - iter 66/117 - loss 0.85640996 - samples/sec: 244.40 - lr: 0.025000\n",
      "2021-07-10 09:20:23,533 epoch 46 - iter 77/117 - loss 0.85006054 - samples/sec: 269.37 - lr: 0.025000\n",
      "2021-07-10 09:20:26,695 epoch 46 - iter 88/117 - loss 0.84821778 - samples/sec: 222.83 - lr: 0.025000\n",
      "2021-07-10 09:20:31,454 epoch 46 - iter 99/117 - loss 0.85369152 - samples/sec: 147.99 - lr: 0.025000\n",
      "2021-07-10 09:20:34,470 epoch 46 - iter 110/117 - loss 0.86362824 - samples/sec: 233.60 - lr: 0.025000\n",
      "2021-07-10 09:20:36,151 ----------------------------------------------------------------------------------------------------\n",
      "2021-07-10 09:20:36,152 EPOCH 46 done: loss 0.8599 - lr 0.0250000\n",
      "2021-07-10 09:20:41,585 DEV : loss 0.9261767864227295 - score 0.8866\n",
      "2021-07-10 09:20:41,759 BAD EPOCHS (no improvement): 0\n",
      "saving best model\n",
      "2021-07-10 09:20:42,517 ----------------------------------------------------------------------------------------------------\n",
      "2021-07-10 09:20:45,467 epoch 47 - iter 11/117 - loss 0.76914552 - samples/sec: 238.77 - lr: 0.025000\n",
      "2021-07-10 09:20:48,227 epoch 47 - iter 22/117 - loss 0.85411677 - samples/sec: 255.28 - lr: 0.025000\n",
      "2021-07-10 09:20:51,165 epoch 47 - iter 33/117 - loss 0.85340164 - samples/sec: 239.83 - lr: 0.025000\n",
      "2021-07-10 09:20:53,902 epoch 47 - iter 44/117 - loss 0.83647639 - samples/sec: 257.46 - lr: 0.025000\n",
      "2021-07-10 09:20:56,805 epoch 47 - iter 55/117 - loss 0.82535417 - samples/sec: 242.73 - lr: 0.025000\n",
      "2021-07-10 09:20:59,863 epoch 47 - iter 66/117 - loss 0.83259875 - samples/sec: 230.41 - lr: 0.025000\n",
      "2021-07-10 09:21:03,046 epoch 47 - iter 77/117 - loss 0.83693134 - samples/sec: 221.30 - lr: 0.025000\n",
      "2021-07-10 09:21:06,010 epoch 47 - iter 88/117 - loss 0.83350971 - samples/sec: 237.71 - lr: 0.025000\n",
      "2021-07-10 09:21:09,042 epoch 47 - iter 99/117 - loss 0.83793414 - samples/sec: 232.41 - lr: 0.025000\n",
      "2021-07-10 09:21:11,740 epoch 47 - iter 110/117 - loss 0.84845292 - samples/sec: 261.24 - lr: 0.025000\n",
      "2021-07-10 09:21:14,768 ----------------------------------------------------------------------------------------------------\n",
      "2021-07-10 09:21:14,769 EPOCH 47 done: loss 0.8653 - lr 0.0250000\n",
      "2021-07-10 09:21:20,263 DEV : loss 0.9083992838859558 - score 0.8867\n",
      "2021-07-10 09:21:20,435 BAD EPOCHS (no improvement): 0\n",
      "saving best model\n",
      "2021-07-10 09:21:21,172 ----------------------------------------------------------------------------------------------------\n",
      "2021-07-10 09:21:26,175 epoch 48 - iter 11/117 - loss 0.95641921 - samples/sec: 140.79 - lr: 0.025000\n",
      "2021-07-10 09:21:28,982 epoch 48 - iter 22/117 - loss 0.91143621 - samples/sec: 250.99 - lr: 0.025000\n",
      "2021-07-10 09:21:31,879 epoch 48 - iter 33/117 - loss 0.95438093 - samples/sec: 243.23 - lr: 0.025000\n",
      "2021-07-10 09:21:34,913 epoch 48 - iter 44/117 - loss 0.89022445 - samples/sec: 232.17 - lr: 0.025000\n",
      "2021-07-10 09:21:38,043 epoch 48 - iter 55/117 - loss 0.88043046 - samples/sec: 225.15 - lr: 0.025000\n",
      "2021-07-10 09:21:40,867 epoch 48 - iter 66/117 - loss 0.88340175 - samples/sec: 249.43 - lr: 0.025000\n",
      "2021-07-10 09:21:43,800 epoch 48 - iter 77/117 - loss 0.88925487 - samples/sec: 240.26 - lr: 0.025000\n",
      "2021-07-10 09:21:47,420 epoch 48 - iter 88/117 - loss 0.88455701 - samples/sec: 194.60 - lr: 0.025000\n",
      "2021-07-10 09:21:50,119 epoch 48 - iter 99/117 - loss 0.88525195 - samples/sec: 261.26 - lr: 0.025000\n",
      "2021-07-10 09:21:52,879 epoch 48 - iter 110/117 - loss 0.88363709 - samples/sec: 255.28 - lr: 0.025000\n",
      "2021-07-10 09:21:54,939 ----------------------------------------------------------------------------------------------------\n",
      "2021-07-10 09:21:54,942 EPOCH 48 done: loss 0.8834 - lr 0.0250000\n",
      "2021-07-10 09:22:00,283 DEV : loss 0.9095968008041382 - score 0.8878\n",
      "2021-07-10 09:22:00,457 BAD EPOCHS (no improvement): 0\n",
      "saving best model\n",
      "2021-07-10 09:22:01,190 ----------------------------------------------------------------------------------------------------\n",
      "2021-07-10 09:22:05,335 epoch 49 - iter 11/117 - loss 1.03719061 - samples/sec: 169.91 - lr: 0.025000\n",
      "2021-07-10 09:22:08,242 epoch 49 - iter 22/117 - loss 0.89877396 - samples/sec: 242.39 - lr: 0.025000\n",
      "2021-07-10 09:22:11,013 epoch 49 - iter 33/117 - loss 0.92628804 - samples/sec: 254.25 - lr: 0.025000\n",
      "2021-07-10 09:22:13,906 epoch 49 - iter 44/117 - loss 0.88536051 - samples/sec: 243.54 - lr: 0.025000\n",
      "2021-07-10 09:22:16,828 epoch 49 - iter 55/117 - loss 0.90841420 - samples/sec: 241.14 - lr: 0.025000\n",
      "2021-07-10 09:22:19,619 epoch 49 - iter 66/117 - loss 0.90215038 - samples/sec: 252.47 - lr: 0.025000\n",
      "2021-07-10 09:22:23,153 epoch 49 - iter 77/117 - loss 0.87501617 - samples/sec: 199.35 - lr: 0.025000\n",
      "2021-07-10 09:22:26,048 epoch 49 - iter 88/117 - loss 0.87260288 - samples/sec: 243.37 - lr: 0.025000\n",
      "2021-07-10 09:22:29,087 epoch 49 - iter 99/117 - loss 0.87172271 - samples/sec: 231.76 - lr: 0.025000\n",
      "2021-07-10 09:22:32,185 epoch 49 - iter 110/117 - loss 0.87332742 - samples/sec: 227.48 - lr: 0.025000\n",
      "2021-07-10 09:22:33,909 ----------------------------------------------------------------------------------------------------\n",
      "2021-07-10 09:22:33,911 EPOCH 49 done: loss 0.8594 - lr 0.0250000\n",
      "2021-07-10 09:22:39,277 DEV : loss 0.891121506690979 - score 0.887\n",
      "2021-07-10 09:22:39,448 BAD EPOCHS (no improvement): 1\n",
      "2021-07-10 09:22:39,829 ----------------------------------------------------------------------------------------------------\n"
     ]
    },
    {
     "name": "stdout",
     "output_type": "stream",
     "text": [
      "2021-07-10 09:22:42,651 epoch 50 - iter 11/117 - loss 0.96231608 - samples/sec: 249.68 - lr: 0.025000\n",
      "2021-07-10 09:22:45,482 epoch 50 - iter 22/117 - loss 0.89811014 - samples/sec: 248.89 - lr: 0.025000\n",
      "2021-07-10 09:22:48,740 epoch 50 - iter 33/117 - loss 0.85097809 - samples/sec: 216.29 - lr: 0.025000\n",
      "2021-07-10 09:22:51,781 epoch 50 - iter 44/117 - loss 0.85407800 - samples/sec: 231.65 - lr: 0.025000\n",
      "2021-07-10 09:22:55,986 epoch 50 - iter 55/117 - loss 0.89236710 - samples/sec: 167.53 - lr: 0.025000\n",
      "2021-07-10 09:22:58,744 epoch 50 - iter 66/117 - loss 0.88866591 - samples/sec: 255.51 - lr: 0.025000\n",
      "2021-07-10 09:23:01,778 epoch 50 - iter 77/117 - loss 0.87614965 - samples/sec: 232.21 - lr: 0.025000\n",
      "2021-07-10 09:23:04,719 epoch 50 - iter 88/117 - loss 0.86035477 - samples/sec: 239.53 - lr: 0.025000\n",
      "2021-07-10 09:23:07,666 epoch 50 - iter 99/117 - loss 0.86340737 - samples/sec: 239.09 - lr: 0.025000\n",
      "2021-07-10 09:23:10,404 epoch 50 - iter 110/117 - loss 0.85874142 - samples/sec: 257.35 - lr: 0.025000\n",
      "2021-07-10 09:23:12,467 ----------------------------------------------------------------------------------------------------\n",
      "2021-07-10 09:23:12,469 EPOCH 50 done: loss 0.8653 - lr 0.0250000\n",
      "2021-07-10 09:23:17,871 DEV : loss 0.9009191989898682 - score 0.8875\n",
      "2021-07-10 09:23:18,039 BAD EPOCHS (no improvement): 2\n",
      "2021-07-10 09:23:18,757 ----------------------------------------------------------------------------------------------------\n",
      "2021-07-10 09:23:18,757 Testing using best model ...\n",
      "2021-07-10 09:23:18,758 loading file models/best-model.pt\n",
      "2021-07-10 09:23:32,374 0.8840\t0.8731\t0.8785\n",
      "2021-07-10 09:23:32,375 \n",
      "Results:\n",
      "- F1-score (micro) 0.8785\n",
      "- F1-score (macro) 0.8785\n",
      "\n",
      "By class:\n",
      "LOCATION   tp: 4715 - fp: 619 - fn: 685 - precision: 0.8840 - recall: 0.8731 - f1-score: 0.8785\n",
      "2021-07-10 09:23:32,375 ----------------------------------------------------------------------------------------------------\n"
     ]
    },
    {
     "data": {
      "text/plain": [
       "{'test_score': 0.8785168623066889,\n",
       " 'dev_score_history': [0.3041825095057034,\n",
       "  0.3635334088335221,\n",
       "  0.6152200080246087,\n",
       "  0.623059866962306,\n",
       "  0.7083156254426971,\n",
       "  0.7379407616361072,\n",
       "  0.7588555858310626,\n",
       "  0.7737365481542025,\n",
       "  0.7524156104906513,\n",
       "  0.7921212980019838,\n",
       "  0.8072141002869245,\n",
       "  0.8109660574412534,\n",
       "  0.8054004933142932,\n",
       "  0.7966027236784303,\n",
       "  0.8277544382707683,\n",
       "  0.837034046561701,\n",
       "  0.8228730822873083,\n",
       "  0.8472867188536553,\n",
       "  0.8403409090909091,\n",
       "  0.8135506223533939,\n",
       "  0.8539236479321316,\n",
       "  0.8545046827595304,\n",
       "  0.8557496952458349,\n",
       "  0.859275342651649,\n",
       "  0.8621747831887925,\n",
       "  0.8673251468232782,\n",
       "  0.8618740964647129,\n",
       "  0.8647786198643796,\n",
       "  0.8668076109936576,\n",
       "  0.8688891817103702,\n",
       "  0.8726541554959786,\n",
       "  0.8693554870695431,\n",
       "  0.8708399366085579,\n",
       "  0.8695192815636555,\n",
       "  0.8769106999195494,\n",
       "  0.8753215107621498,\n",
       "  0.8725062755978333,\n",
       "  0.873686974789916,\n",
       "  0.876398578386205,\n",
       "  0.883986710963455,\n",
       "  0.8813738441215324,\n",
       "  0.8832446808510639,\n",
       "  0.8809272918861959,\n",
       "  0.8829801237330525,\n",
       "  0.8857410129627155,\n",
       "  0.8865787018525924,\n",
       "  0.8867047416655599,\n",
       "  0.8877971052981012,\n",
       "  0.8869936034115139,\n",
       "  0.8874717683007838],\n",
       " 'train_loss_history': [8.231765334932213,\n",
       "  4.859624844331008,\n",
       "  3.750837864019932,\n",
       "  3.1786630938195777,\n",
       "  2.928109699844295,\n",
       "  2.6176132371282983,\n",
       "  2.3726165070492997,\n",
       "  2.226938871236948,\n",
       "  2.077092587438404,\n",
       "  1.9302516594911232,\n",
       "  1.9333544918614576,\n",
       "  1.8228313841371455,\n",
       "  1.7761986087530086,\n",
       "  1.6976788222280323,\n",
       "  1.6409109576135619,\n",
       "  1.607476163114238,\n",
       "  1.5869427379379926,\n",
       "  1.5337381994622385,\n",
       "  1.4937100578577092,\n",
       "  1.450873301579402,\n",
       "  1.3895477963309002,\n",
       "  1.3971626621026259,\n",
       "  1.3461673157846825,\n",
       "  1.3133757944799895,\n",
       "  1.3069028299078982,\n",
       "  1.2743903887577546,\n",
       "  1.2452243148771107,\n",
       "  1.2554148624085972,\n",
       "  1.2101375898744307,\n",
       "  1.2004604650358868,\n",
       "  1.2018759459511847,\n",
       "  1.1394641753445325,\n",
       "  1.1490141346923306,\n",
       "  1.1214913522076404,\n",
       "  1.1105928232527187,\n",
       "  1.1029415380241525,\n",
       "  1.0702170026608002,\n",
       "  1.0628684748951187,\n",
       "  1.044287494614593,\n",
       "  0.9928935949619,\n",
       "  0.9410531536126748,\n",
       "  0.9449793915463309,\n",
       "  0.8980515219716945,\n",
       "  0.8894543130683084,\n",
       "  0.8683461554539509,\n",
       "  0.8599482171046429,\n",
       "  0.8653148748935797,\n",
       "  0.883388616080977,\n",
       "  0.8593587949235215,\n",
       "  0.8653005636655368],\n",
       " 'dev_loss_history': [6.715024471282959,\n",
       "  4.166038990020752,\n",
       "  3.183387279510498,\n",
       "  2.854617118835449,\n",
       "  2.179246664047241,\n",
       "  2.024733781814575,\n",
       "  1.9234167337417603,\n",
       "  1.7368805408477783,\n",
       "  2.264220714569092,\n",
       "  1.6106880903244019,\n",
       "  1.4840517044067383,\n",
       "  1.5867100954055786,\n",
       "  1.7713379859924316,\n",
       "  1.6135344505310059,\n",
       "  1.3455084562301636,\n",
       "  1.3237756490707397,\n",
       "  1.5323656797409058,\n",
       "  1.2294930219650269,\n",
       "  1.298126220703125,\n",
       "  1.704676866531372,\n",
       "  1.1720783710479736,\n",
       "  1.1724778413772583,\n",
       "  1.1576852798461914,\n",
       "  1.1844350099563599,\n",
       "  1.1714353561401367,\n",
       "  1.1097458600997925,\n",
       "  1.1508837938308716,\n",
       "  1.0752005577087402,\n",
       "  1.0727685689926147,\n",
       "  1.0654313564300537,\n",
       "  1.0432478189468384,\n",
       "  1.0603702068328857,\n",
       "  1.0621129274368286,\n",
       "  1.0258944034576416,\n",
       "  1.0245574712753296,\n",
       "  1.0259000062942505,\n",
       "  1.053908109664917,\n",
       "  1.0980778932571411,\n",
       "  1.0335910320281982,\n",
       "  0.9487932324409485,\n",
       "  0.932927668094635,\n",
       "  0.9474595785140991,\n",
       "  0.9479946494102478,\n",
       "  0.9321224093437195,\n",
       "  0.9018500447273254,\n",
       "  0.9261767864227295,\n",
       "  0.9083992838859558,\n",
       "  0.9095968008041382,\n",
       "  0.891121506690979,\n",
       "  0.9009191989898682]}"
      ]
     },
     "execution_count": 14,
     "metadata": {},
     "output_type": "execute_result"
    }
   ],
   "source": [
    "# 7. start training\n",
    "trainer.train('models',\n",
    "              learning_rate=0.1,\n",
    "              mini_batch_size=64,\n",
    "              max_epochs=50,\n",
    "              checkpoint=True)"
   ]
  },
  {
   "cell_type": "code",
   "execution_count": null,
   "metadata": {
    "colab": {
     "base_uri": "https://localhost:8080/",
     "height": 204
    },
    "executionInfo": {
     "elapsed": 5335,
     "status": "ok",
     "timestamp": 1560779736010,
     "user": {
      "displayName": "Nam Phạm",
      "photoUrl": "",
      "userId": "05505217534925601011"
     },
     "user_tz": -420
    },
    "id": "c8ZUKTsouCaA",
    "outputId": "bf6e0bc4-1d1e-4706-eb2d-08ee7ee1797d"
   },
   "outputs": [
    {
     "name": "stdout",
     "output_type": "stream",
     "text": [
      "--2019-06-17 13:55:29--  http://download1515.mediafire.com/k0bh2w3sdsig/59j8zw0v5opg1p0/final-model.pt\n",
      "Resolving download1515.mediafire.com (download1515.mediafire.com)... 205.196.123.203\n",
      "Connecting to download1515.mediafire.com (download1515.mediafire.com)|205.196.123.203|:80... connected.\n",
      "HTTP request sent, awaiting response... 200 OK\n",
      "Length: 28592159 (27M) [application/octet-stream]\n",
      "Saving to: ‘final-model.pt’\n",
      "\n",
      "final-model.pt      100%[===================>]  27.27M  8.78MB/s    in 3.1s    \n",
      "\n",
      "2019-06-17 13:55:32 (8.78 MB/s) - ‘final-model.pt’ saved [28592159/28592159]\n",
      "\n"
     ]
    }
   ],
   "source": [
    "!wget http://download1515.mediafire.com/k0bh2w3sdsig/59j8zw0v5opg1p0/final-model.pt"
   ]
  },
  {
   "cell_type": "code",
   "execution_count": null,
   "metadata": {
    "colab": {
     "base_uri": "https://localhost:8080/",
     "height": 71
    },
    "executionInfo": {
     "elapsed": 781,
     "status": "ok",
     "timestamp": 1560779797629,
     "user": {
      "displayName": "Nam Phạm",
      "photoUrl": "",
      "userId": "05505217534925601011"
     },
     "user_tz": -420
    },
    "id": "xMDSlWjHz-CC",
    "outputId": "f2f1da88-bb7b-4832-828e-2719c92f97f2"
   },
   "outputs": [
    {
     "name": "stdout",
     "output_type": "stream",
     "text": [
      "2019-06-17 13:56:34,746 loading file final-model.pt\n",
      "{'text': 'nhà ơ cầu giấy', 'labels': [], 'entities': [{'text': 'cầu giấy', 'start_pos': 6, 'end_pos': 14, 'type': 'LOC', 'confidence': 0.7378469407558441}]}\n"
     ]
    }
   ],
   "source": [
    "from flair.data import Sentence\n",
    "\n",
    "# load the model you trained\n",
    "model = SequenceTagger.load('final-model.pt')\n",
    "\n",
    "# create example sentence\n",
    "sentence = Sentence('nhà ơ cầu giấy')\n",
    "\n",
    "# predict tags and print\n",
    "model.predict(sentence)\n",
    "\n",
    "result=sentence.to_dict(tag_type='ner')\n",
    "\n",
    "#result=sentence.to_tagged_string()\n",
    "\n",
    "print(result)"
   ]
  },
  {
   "cell_type": "code",
   "execution_count": null,
   "metadata": {
    "colab": {
     "base_uri": "https://localhost:8080/",
     "height": 68
    },
    "executionInfo": {
     "elapsed": 656,
     "status": "ok",
     "timestamp": 1560332514380,
     "user": {
      "displayName": "hải nam phạm",
      "photoUrl": "https://lh4.googleusercontent.com/-5J5GQsFYK88/AAAAAAAAAAI/AAAAAAAAAEU/ybXN7M7rE20/s64/photo.jpg",
      "userId": "10811815056765639045"
     },
     "user_tz": -420
    },
    "id": "oDNqElbuap93",
    "outputId": "23d1a122-70c7-4cdc-d1c3-a2ce32b66128"
   },
   "outputs": [
    {
     "name": "stdout",
     "output_type": "stream",
     "text": [
      "LOC-span [5,6,7]: \"xã Mỹ Quý\"\n",
      "LOC-span [8,9,10]: \"huyện Tháp Mười\"\n",
      "LOC-span [11,12]: \"Đồng Tháp\"\n"
     ]
    }
   ],
   "source": [
    "from pprint import pprint\n",
    "for entity in sentence.get_spans('ner'):\n",
    "  #pprint(vars(entity.tokens[0].tags['ner']))\n",
    "  print(entity)"
   ]
  },
  {
   "cell_type": "code",
   "execution_count": null,
   "metadata": {
    "id": "GbBrhkXPYvw3"
   },
   "outputs": [],
   "source": [
    "f = open('test_kewords.txt', 'r').read()\n",
    "\n",
    "for line in f.split('\\n'):\n",
    "  #print(line)\n",
    "  sentence = Sentence(line)\n",
    "  model.predict(sentence)\n",
    "  result=sentence.to_dict(tag_type='ner')\n",
    "  txt=result['text'].strip().split(' ')\n",
    "  words=[x+'\\tO' for x in txt]\n",
    "  \n",
    "  fw = open('test_flair_byte_eb.txt', 'a')\n",
    "  for entity in sentence.get_spans('ner'):\n",
    "    for tk in entity.tokens:\n",
    "      words[tk.idx-1]=tk.text+'\\t'+tk.tags['ner']._value\n",
    "          \n",
    "\n",
    "  for w in words:\n",
    "    fw.write(w)\n",
    "    fw.write(\"\\n\")\n",
    "  fw.write(\"\\n\")"
   ]
  },
  {
   "cell_type": "code",
   "execution_count": null,
   "metadata": {
    "id": "HfE776-Os3eP"
   },
   "outputs": [],
   "source": [
    "f1=open('test_labeled.txt', 'r').read()\n",
    "#f2=open('test_anago.txt', 'r').read()\n",
    "f3=open('test_flair_byte_eb.txt', 'r').read()\n",
    "\n",
    "l1=f1.split('\\n')\n",
    "i2=0\n",
    "k2=0\n",
    "i3=0\n",
    "k3=0\n",
    "#for j,l2 in enumerate(f2.split('\\n')):\n",
    "#  if(l2==l1[j]):\n",
    "#    i2+=1\n",
    "#  else:\n",
    "#    k2+=1\n",
    "    \n",
    "for j,l3 in enumerate(f3.split('\\n')):\n",
    "  if(l3==l1[j]):\n",
    "    i3+=1\n",
    "  else:\n",
    "    k3+=1\n",
    "\n",
    "#t2=i2/(k2+i2)\n",
    "t3=i3/(k3+i3)\n",
    "\n",
    "#print(t2)\n",
    "print(t3)"
   ]
  },
  {
   "cell_type": "code",
   "execution_count": 1,
   "metadata": {
    "colab": {
     "base_uri": "https://localhost:8080/"
    },
    "executionInfo": {
     "elapsed": 3967,
     "status": "ok",
     "timestamp": 1624936900304,
     "user": {
      "displayName": "Nam Phạm",
      "photoUrl": "",
      "userId": "05505217534925601011"
     },
     "user_tz": -420
    },
    "id": "Yu0LVnzFyJ3D",
    "outputId": "9bc7a159-a575-446f-bb03-c62bbcb5d6ac"
   },
   "outputs": [
    {
     "name": "stdout",
     "output_type": "stream",
     "text": [
      "Collecting bpemb\n",
      "  Downloading https://files.pythonhosted.org/packages/f2/6f/9191b85109772636a8f8accb122900c34db26c091d2793218aa94954524c/bpemb-0.3.3-py3-none-any.whl\n",
      "Requirement already satisfied: requests in /usr/local/lib/python3.7/dist-packages (from bpemb) (2.23.0)\n",
      "Requirement already satisfied: numpy in /usr/local/lib/python3.7/dist-packages (from bpemb) (1.19.5)\n",
      "Requirement already satisfied: gensim in /usr/local/lib/python3.7/dist-packages (from bpemb) (3.6.0)\n",
      "Collecting sentencepiece\n",
      "\u001b[?25l  Downloading https://files.pythonhosted.org/packages/ac/aa/1437691b0c7c83086ebb79ce2da16e00bef024f24fec2a5161c35476f499/sentencepiece-0.1.96-cp37-cp37m-manylinux_2_17_x86_64.manylinux2014_x86_64.whl (1.2MB)\n",
      "\u001b[K     |████████████████████████████████| 1.2MB 9.1MB/s \n",
      "\u001b[?25hRequirement already satisfied: tqdm in /usr/local/lib/python3.7/dist-packages (from bpemb) (4.41.1)\n",
      "Requirement already satisfied: urllib3!=1.25.0,!=1.25.1,<1.26,>=1.21.1 in /usr/local/lib/python3.7/dist-packages (from requests->bpemb) (1.24.3)\n",
      "Requirement already satisfied: chardet<4,>=3.0.2 in /usr/local/lib/python3.7/dist-packages (from requests->bpemb) (3.0.4)\n",
      "Requirement already satisfied: idna<3,>=2.5 in /usr/local/lib/python3.7/dist-packages (from requests->bpemb) (2.10)\n",
      "Requirement already satisfied: certifi>=2017.4.17 in /usr/local/lib/python3.7/dist-packages (from requests->bpemb) (2021.5.30)\n",
      "Requirement already satisfied: smart-open>=1.2.1 in /usr/local/lib/python3.7/dist-packages (from gensim->bpemb) (5.1.0)\n",
      "Requirement already satisfied: six>=1.5.0 in /usr/local/lib/python3.7/dist-packages (from gensim->bpemb) (1.15.0)\n",
      "Requirement already satisfied: scipy>=0.18.1 in /usr/local/lib/python3.7/dist-packages (from gensim->bpemb) (1.4.1)\n",
      "Installing collected packages: sentencepiece, bpemb\n",
      "Successfully installed bpemb-0.3.3 sentencepiece-0.1.96\n"
     ]
    }
   ],
   "source": [
    "!pip install bpemb"
   ]
  },
  {
   "cell_type": "code",
   "execution_count": 6,
   "metadata": {
    "executionInfo": {
     "elapsed": 302,
     "status": "ok",
     "timestamp": 1624937052431,
     "user": {
      "displayName": "Nam Phạm",
      "photoUrl": "",
      "userId": "05505217534925601011"
     },
     "user_tz": -420
    },
    "id": "ryBzBlQAySeY"
   },
   "outputs": [],
   "source": [
    "from bpemb import BPEmb\n",
    "bpemb_vi = BPEmb(lang=\"vi\", dim=100)"
   ]
  },
  {
   "cell_type": "code",
   "execution_count": 12,
   "metadata": {
    "colab": {
     "base_uri": "https://localhost:8080/"
    },
    "executionInfo": {
     "elapsed": 293,
     "status": "ok",
     "timestamp": 1624937152158,
     "user": {
      "displayName": "Nam Phạm",
      "photoUrl": "",
      "userId": "05505217534925601011"
     },
     "user_tz": -420
    },
    "id": "Avz-0HsSyeKh",
    "outputId": "47676b08-0b51-475a-f3b2-ab89dcc1cf7f"
   },
   "outputs": [
    {
     "data": {
      "text/plain": [
       "['▁tôi', '▁mu', 'ố', 'zz', 'z', 'n', '▁gặp', '▁bác', '▁sĩ', '▁nam']"
      ]
     },
     "execution_count": 12,
     "metadata": {
      "tags": []
     },
     "output_type": "execute_result"
    }
   ],
   "source": [
    "text = \"tôi muốzzzn gặp bác sĩ nam\"\n",
    "bpemb_vi.encode(text)"
   ]
  },
  {
   "cell_type": "code",
   "execution_count": 14,
   "metadata": {
    "colab": {
     "base_uri": "https://localhost:8080/"
    },
    "executionInfo": {
     "elapsed": 304,
     "status": "ok",
     "timestamp": 1624937216555,
     "user": {
      "displayName": "Nam Phạm",
      "photoUrl": "",
      "userId": "05505217534925601011"
     },
     "user_tz": -420
    },
    "id": "HOd2i5DAyzXU",
    "outputId": "ff6d86e4-99f9-4e26-ba5f-a595eb1970a8"
   },
   "outputs": [
    {
     "data": {
      "text/plain": [
       "(10, 100)"
      ]
     },
     "execution_count": 14,
     "metadata": {
      "tags": []
     },
     "output_type": "execute_result"
    }
   ],
   "source": [
    "bpemb_vi.embed(text).shape"
   ]
  },
  {
   "cell_type": "code",
   "execution_count": null,
   "metadata": {
    "id": "bTsQEU2izIi9"
   },
   "outputs": [],
   "source": []
  }
 ],
 "metadata": {
  "accelerator": "GPU",
  "colab": {
   "collapsed_sections": [],
   "name": "Flair_Training_Model.ipynb",
   "provenance": []
  },
  "kernelspec": {
   "display_name": "Python 3",
   "language": "python",
   "name": "python3"
  },
  "language_info": {
   "codemirror_mode": {
    "name": "ipython",
    "version": 3
   },
   "file_extension": ".py",
   "mimetype": "text/x-python",
   "name": "python",
   "nbconvert_exporter": "python",
   "pygments_lexer": "ipython3",
   "version": "3.7.9"
  }
 },
 "nbformat": 4,
 "nbformat_minor": 1
}
